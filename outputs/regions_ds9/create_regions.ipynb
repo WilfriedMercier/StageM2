{
 "cells": [
  {
   "cell_type": "markdown",
   "metadata": {},
   "source": [
    "# This is meant to create .reg files for ds9 to see where the galaxies are"
   ]
  },
  {
   "cell_type": "code",
   "execution_count": 14,
   "metadata": {},
   "outputs": [],
   "source": [
    "from stage2 import *\n",
    "\n",
    "from astropy.io.votable import parse\n",
    "from astropy.coordinates import SkyCoord\n",
    "from astropy import units as u"
   ]
  },
  {
   "cell_type": "code",
   "execution_count": 3,
   "metadata": {},
   "outputs": [],
   "source": [
    "path    = \"../SelectedGals_sep_by_cluster/\"\n",
    "nums    = [114, 25, 30, 34, 61, 84, 23, 28, 32, 51, 79, \"84-N\"]\n",
    "files   = [path + \"CGr\" + str(i) + \"/matching_fieldsGals_Cassata_and_Zurich_corrected_radius_CGr\" + str(i) + \".vot\" for i in nums]\n",
    "#for now\n",
    "files   = [files[0]]"
   ]
  },
  {
   "cell_type": "code",
   "execution_count": 45,
   "metadata": {},
   "outputs": [
    {
     "name": "stdout",
     "output_type": "stream",
     "text": [
      "The file ../SelectedGals_sep_by_cluster/CGr114/matching_fieldsGals_Cassata_and_Zurich_corrected_radius_CGr114.vot is a VOtable, right ? True\n",
      "10.0 0.0 1.5052800000070476\n",
      "9.0 59.0 58.21776000000284\n",
      "10.0 0.0 1.609440000011375\n",
      "10.0 0.0 0.28944000000592496\n",
      "9.0 59.0 58.86168000001163\n",
      "9.0 59.0 57.93792000001105\n",
      "9.0 59.0 59.57880000000827\n",
      "10.0 0.0 0.8786400000083461\n",
      "10.0 0.0 0.19488000000293937\n",
      "9.0 59.0 59.50920000000494\n",
      "9.0 59.0 59.59872000000658\n",
      "10.0 0.0 1.2237600000041482\n",
      "9.0 59.0 58.26192000001157\n",
      "10.0 0.0 0.8652000000026305\n",
      "9.0 59.0 57.91392000000769\n",
      "9.0 59.0 58.8084000000093\n",
      "10.0 0.0 0.04008000001007872\n",
      "9.0 59.0 59.27400000000404\n",
      "9.0 59.0 59.91960000000475\n",
      "9.0 59.0 59.19840000000306\n"
     ]
    }
   ],
   "source": [
    "for f in files:\n",
    "    #Checking correct file format\n",
    "    is_VOtable(f)\n",
    "    \n",
    "    #getting data\n",
    "    table = Table(parse(f).get_first_table().array)\n",
    "    ID    = table['ID']\n",
    "    RA    = table['RA']\n",
    "    Dec   = table['DEC']\n",
    "    coord = SkyCoord(ra=RA, dec=Dec, unit=(u.degree, u.degree))\n",
    "    \n",
    "    #converting to hour:min:sec format\n",
    "    RA_h, RA_m, RA_s    = coord.ra.hms\n",
    "    DEC_h, DEC_m, DEC_s = coord.dec.hms\n",
    "    \n",
    "    #Writing output into file\n",
    "    #starting with header\n",
    "    \n",
    "    for ra_h, ra_m, ra_s, dec_h, dec_m, dec_s in zip(RA_h, RA_m, RA_s, DEC_h, DEC_m, DEC_s):\n",
    "        print(ra_h, ra_m, ra_s)\n",
    "    \n",
    "    \n",
    "    \n",
    "    "
   ]
  },
  {
   "cell_type": "code",
   "execution_count": 29,
   "metadata": {},
   "outputs": [
    {
     "data": {
      "text/plain": [
       "hms_tuple(h=array([10.,  9., 10., 10.,  9.,  9.,  9., 10., 10.,  9.,  9., 10.,  9.,\n",
       "       10.,  9.,  9., 10.,  9.,  9.,  9.]), m=array([ 0., 59.,  0.,  0., 59., 59., 59.,  0.,  0., 59., 59.,  0., 59.,\n",
       "        0., 59., 59.,  0., 59., 59., 59.]), s=array([1.505280e+00, 5.821776e+01, 1.609440e+00, 2.894400e-01,\n",
       "       5.886168e+01, 5.793792e+01, 5.957880e+01, 8.786400e-01,\n",
       "       1.948800e-01, 5.950920e+01, 5.959872e+01, 1.223760e+00,\n",
       "       5.826192e+01, 8.652000e-01, 5.791392e+01, 5.880840e+01,\n",
       "       4.008000e-02, 5.927400e+01, 5.991960e+01, 5.919840e+01]))"
      ]
     },
     "execution_count": 29,
     "metadata": {},
     "output_type": "execute_result"
    }
   ],
   "source": [
    "coord.ra.hms"
   ]
  },
  {
   "cell_type": "code",
   "execution_count": 28,
   "metadata": {},
   "outputs": [
    {
     "data": {
      "text/plain": [
       "<SkyCoord (ICRS): (ra, dec) in deg\n",
       "    [(150.006272, 2.25333 ), (149.992574, 2.252479),\n",
       "     (150.006706, 2.253204), (150.001206, 2.258035),\n",
       "     (149.995257, 2.256193), (149.991408, 2.259869),\n",
       "     (149.998245, 2.258393), (150.003661, 2.261546),\n",
       "     (150.000812, 2.262599), (149.997955, 2.262225),\n",
       "     (149.998328, 2.266781), (150.005099, 2.25465 ),\n",
       "     (149.992758, 2.256667), (150.003605, 2.257134),\n",
       "     (149.991308, 2.258197), (149.995035, 2.260546),\n",
       "     (150.000167, 2.261076), (149.996975, 2.259602),\n",
       "     (149.999665, 2.262262), (149.99666 , 2.263335)]>"
      ]
     },
     "execution_count": 28,
     "metadata": {},
     "output_type": "execute_result"
    }
   ],
   "source": [
    "coord"
   ]
  },
  {
   "cell_type": "code",
   "execution_count": null,
   "metadata": {},
   "outputs": [],
   "source": [
    "for ra, dec, id in zip(RA, Dec, ID):\n",
    "    print(\"circle(%2d\", )"
   ]
  }
 ],
 "metadata": {
  "kernelspec": {
   "display_name": "Python 3",
   "language": "python",
   "name": "python3"
  },
  "language_info": {
   "codemirror_mode": {
    "name": "ipython",
    "version": 3
   },
   "file_extension": ".py",
   "mimetype": "text/x-python",
   "name": "python",
   "nbconvert_exporter": "python",
   "pygments_lexer": "ipython3",
   "version": "3.7.1"
  }
 },
 "nbformat": 4,
 "nbformat_minor": 2
}
