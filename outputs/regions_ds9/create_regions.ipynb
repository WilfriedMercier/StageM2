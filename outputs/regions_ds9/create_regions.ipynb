{
 "cells": [
  {
   "cell_type": "markdown",
   "metadata": {},
   "source": [
    "# This is meant to create .reg files for ds9 to see where the galaxies are"
   ]
  },
  {
   "cell_type": "code",
   "execution_count": 1,
   "metadata": {},
   "outputs": [],
   "source": [
    "from stage2 import *\n",
    "\n",
    "from astropy.io.votable import parse\n",
    "from astropy.coordinates import SkyCoord\n",
    "from astropy import units as u\n",
    "\n",
    "import multiprocessing"
   ]
  },
  {
   "cell_type": "markdown",
   "metadata": {},
   "source": [
    "# Selected gals files"
   ]
  },
  {
   "cell_type": "code",
   "execution_count": 2,
   "metadata": {},
   "outputs": [],
   "source": [
    "path    = \"../SelectedGals_sep_by_cluster/\"\n",
    "nums    = [114, 26, 30, 34, 61, 84, 23, 28, 32, 51, 79, \"84-N\"]\n",
    "files   = [path + \"CGr\" + str(i) + \"/matching_fieldsGals_Cassata_and_Zurich_corrected_radius_CGr\" + str(i) + \".vot\" for i in nums]"
   ]
  },
  {
   "cell_type": "markdown",
   "metadata": {},
   "source": [
    "# Unselected gals files"
   ]
  },
  {
   "cell_type": "code",
   "execution_count": 6,
   "metadata": {},
   "outputs": [],
   "source": [
    "path2   = \"../UnselectedGals_sep_by_cluster/\"\n",
    "files2  = [path2 + \"CGr\" + str(i) + \"/unselected_field_gals_CGr\" + str(i) + \".vot\" for i in nums]"
   ]
  },
  {
   "cell_type": "markdown",
   "metadata": {},
   "source": [
    "## Function used for multi processing"
   ]
  },
  {
   "cell_type": "code",
   "execution_count": 3,
   "metadata": {},
   "outputs": [],
   "source": [
    "def writeFile(f, size, angle, color, symbol, selected):\n",
    "    #Checking correct file format\n",
    "    is_VOtable(f)\n",
    "    \n",
    "    #getting data\n",
    "    table               = Table(parse(f).get_first_table().array)\n",
    "    ID                  = table['ID']\n",
    "    RA                  = table['RA']\n",
    "    Dec                 = table['DEC']\n",
    "    redshift            = table['Z_MUSE']\n",
    "    \n",
    "    #creating astropy coordinate object\n",
    "    coord               = SkyCoord(ra=RA, dec=Dec, unit=(u.degree, u.degree))\n",
    "    \n",
    "    #converting to hour:min:sec format for ra and deg:arcmin:arcsec for dec\n",
    "    RA_h, RA_m, RA_s    = coord.ra.hms\n",
    "    DEC_d, DEC_m, DEC_s = coord.dec.dms\n",
    "    \n",
    "    ##Writing output into file\n",
    "    if selected:\n",
    "        path            = \"SelectedGals/\"\n",
    "    else:\n",
    "        path            = \"UnselectedGals/\"  \n",
    "    outputName          = path + \"CGr\" + str(n) + \".reg\"\n",
    "    fObj                = open(outputName, \"w\")\n",
    "    \n",
    "    #starting with header\n",
    "    fObj.write(\"# Region file format: DS9 version 4.1\\n\")\n",
    "    fObj.write('global color=blue dashlist=8 3 width=2 font=\"helvetica 12 bold roman\" select=1 highlite=1 dash=0 fixed=0 edit=1 move=1 delete=1 include=1 source=1\\n')\n",
    "    fObj.write(\"fk5\\n\\n\")\n",
    "    #and then writing each galaxy line one after another\n",
    "    for idd, ra_h, ra_m, ra_s, dec_d, dec_m, dec_s, z in zip(ID, RA_h, RA_m, RA_s, DEC_d, DEC_m, DEC_s, redshift):\n",
    "        if symbol == \"circle\":\n",
    "            stuffToWrite = '%s(%02d:%02d:%2.2f, %+03d:%02d:%2.2f, %1.1f\") # color=%s text={%d (%1.1f)}\\n' %(symbol, ra_h, ra_m, ra_s, dec_d, \n",
    "                                                                                          dec_m, dec_s, size, color, idd, z)\n",
    "        elif symbol == \"box\":\n",
    "            stuffToWrite = '%s(%02d:%02d:%2.2f, %+03d:%02d:%2.2f, %1.1f\", %1.1f\", %1.1f) # color=%s text={%d (%1.1f)}\\n' %(symbol, ra_h, ra_m, ra_s, dec_d, \n",
    "                                                                                          dec_m, dec_s, size, size, angle, color, idd, z)\n",
    "        fObj.write(stuffToWrite)\n",
    "        \n",
    "    fObj.close()"
   ]
  },
  {
   "cell_type": "markdown",
   "metadata": {},
   "source": [
    "# Generating file for selected galaxies"
   ]
  },
  {
   "cell_type": "code",
   "execution_count": 4,
   "metadata": {},
   "outputs": [
    {
     "name": "stdout",
     "output_type": "stream",
     "text": [
      "The file ../SelectedGals_sep_by_cluster/CGr114/matching_fieldsGals_Cassata_and_Zurich_corrected_radius_CGr114.vot is a VOtable, right ? True\n",
      "The file ../SelectedGals_sep_by_cluster/CGr26/matching_fieldsGals_Cassata_and_Zurich_corrected_radius_CGr26.vot is a VOtable, right ? True\n",
      "The file ../SelectedGals_sep_by_cluster/CGr30/matching_fieldsGals_Cassata_and_Zurich_corrected_radius_CGr30.vot is a VOtable, right ? True\n",
      "The file ../SelectedGals_sep_by_cluster/CGr34/matching_fieldsGals_Cassata_and_Zurich_corrected_radius_CGr34.vot is a VOtable, right ? True\n",
      "The file ../SelectedGals_sep_by_cluster/CGr61/matching_fieldsGals_Cassata_and_Zurich_corrected_radius_CGr61.vot is a VOtable, right ? True\n",
      "The file ../SelectedGals_sep_by_cluster/CGr84/matching_fieldsGals_Cassata_and_Zurich_corrected_radius_CGr84.vot is a VOtable, right ? True\n",
      "The file ../SelectedGals_sep_by_cluster/CGr23/matching_fieldsGals_Cassata_and_Zurich_corrected_radius_CGr23.vot is a VOtable, right ? True\n",
      "The file ../SelectedGals_sep_by_cluster/CGr28/matching_fieldsGals_Cassata_and_Zurich_corrected_radius_CGr28.vot is a VOtable, right ? True\n",
      "The file ../SelectedGals_sep_by_cluster/CGr32/matching_fieldsGals_Cassata_and_Zurich_corrected_radius_CGr32.vot is a VOtable, right ? True\n",
      "The file ../SelectedGals_sep_by_cluster/CGr51/matching_fieldsGals_Cassata_and_Zurich_corrected_radius_CGr51.vot is a VOtable, right ? True\n",
      "The file ../SelectedGals_sep_by_cluster/CGr84-N/matching_fieldsGals_Cassata_and_Zurich_corrected_radius_CGr84-N.vot is a VOtable, right ? True\n",
      "The file ../SelectedGals_sep_by_cluster/CGr79/matching_fieldsGals_Cassata_and_Zurich_corrected_radius_CGr79.vot is a VOtable, right ? True\n"
     ]
    }
   ],
   "source": [
    "size     = 0.7 #arcsec\n",
    "symbol   = \"circle\"\n",
    "selected = True\n",
    "color    = \"red\"\n",
    "angle    = 0\n",
    "for f, n in zip(files, nums):\n",
    "    proc = multiprocessing.Process(name=n, target=writeFile, args=(f, size, angle, color, symbol, selected))\n",
    "    proc.start()"
   ]
  },
  {
   "cell_type": "markdown",
   "metadata": {},
   "source": [
    "# Generating file for unselected galaxies"
   ]
  },
  {
   "cell_type": "code",
   "execution_count": 7,
   "metadata": {},
   "outputs": [
    {
     "name": "stdout",
     "output_type": "stream",
     "text": [
      "The file ../UnselectedGals_sep_by_cluster/CGr114/unselected_field_gals_CGr114.vot is a VOtable, right ? True\n",
      "The file ../UnselectedGals_sep_by_cluster/CGr26/unselected_field_gals_CGr26.vot is a VOtable, right ? True\n",
      "The file ../UnselectedGals_sep_by_cluster/CGr30/unselected_field_gals_CGr30.vot is a VOtable, right ? True\n"
     ]
    },
    {
     "name": "stderr",
     "output_type": "stream",
     "text": [
      "WARNING: W03: ../UnselectedGals_sep_by_cluster/CGr114/unselected_field_gals_CGr114.vot:10:0: W03: Implicitly generating an ID from a name 'Match type' -> 'Match_type' [astropy.io.votable.xmlutil]\n"
     ]
    },
    {
     "name": "stdout",
     "output_type": "stream",
     "text": [
      "The file ../UnselectedGals_sep_by_cluster/CGr34/unselected_field_gals_CGr34.vot is a VOtable, right ? True\n"
     ]
    },
    {
     "name": "stderr",
     "output_type": "stream",
     "text": [
      "WARNING: W03: ../UnselectedGals_sep_by_cluster/CGr26/unselected_field_gals_CGr26.vot:10:0: W03: Implicitly generating an ID from a name 'Match type' -> 'Match_type' [astropy.io.votable.xmlutil]\n",
      "WARNING: W03: ../UnselectedGals_sep_by_cluster/CGr114/unselected_field_gals_CGr114.vot:13:0: W03: Implicitly generating an ID from a name 'Match algorithm' -> 'Match_algorithm' [astropy.io.votable.xmlutil]\n"
     ]
    },
    {
     "name": "stdout",
     "output_type": "stream",
     "text": [
      "The file ../UnselectedGals_sep_by_cluster/CGr61/unselected_field_gals_CGr61.vot is a VOtable, right ? True\n"
     ]
    },
    {
     "name": "stderr",
     "output_type": "stream",
     "text": [
      "WARNING: W03: ../UnselectedGals_sep_by_cluster/CGr26/unselected_field_gals_CGr26.vot:13:0: W03: Implicitly generating an ID from a name 'Match algorithm' -> 'Match_algorithm' [astropy.io.votable.xmlutil]\n"
     ]
    },
    {
     "name": "stdout",
     "output_type": "stream",
     "text": [
      "The file ../UnselectedGals_sep_by_cluster/CGr84/unselected_field_gals_CGr84.vot is a VOtable, right ? True\n"
     ]
    },
    {
     "name": "stderr",
     "output_type": "stream",
     "text": [
      "WARNING: W03: ../UnselectedGals_sep_by_cluster/CGr30/unselected_field_gals_CGr30.vot:10:0: W03: Implicitly generating an ID from a name 'Match type' -> 'Match_type' [astropy.io.votable.xmlutil]\n"
     ]
    },
    {
     "name": "stdout",
     "output_type": "stream",
     "text": [
      "The file ../UnselectedGals_sep_by_cluster/CGr23/unselected_field_gals_CGr23.vot is a VOtable, right ? True\n"
     ]
    },
    {
     "name": "stderr",
     "output_type": "stream",
     "text": [
      "WARNING: W03: ../UnselectedGals_sep_by_cluster/CGr114/unselected_field_gals_CGr114.vot:16:0: W03: Implicitly generating an ID from a name 'Join Type' -> 'Join_Type' [astropy.io.votable.xmlutil]\n",
      "WARNING: W03: ../UnselectedGals_sep_by_cluster/CGr26/unselected_field_gals_CGr26.vot:16:0: W03: Implicitly generating an ID from a name 'Join Type' -> 'Join_Type' [astropy.io.votable.xmlutil]\n"
     ]
    },
    {
     "name": "stdout",
     "output_type": "stream",
     "text": [
      "The file ../UnselectedGals_sep_by_cluster/CGr28/unselected_field_gals_CGr28.vot is a VOtable, right ? True\n"
     ]
    },
    {
     "name": "stderr",
     "output_type": "stream",
     "text": [
      "WARNING: W03: ../UnselectedGals_sep_by_cluster/CGr30/unselected_field_gals_CGr30.vot:13:0: W03: Implicitly generating an ID from a name 'Match algorithm' -> 'Match_algorithm' [astropy.io.votable.xmlutil]\n",
      "WARNING: W03: ../UnselectedGals_sep_by_cluster/CGr34/unselected_field_gals_CGr34.vot:10:0: W03: Implicitly generating an ID from a name 'Match type' -> 'Match_type' [astropy.io.votable.xmlutil]\n",
      "WARNING: W03: ../UnselectedGals_sep_by_cluster/CGr61/unselected_field_gals_CGr61.vot:10:0: W03: Implicitly generating an ID from a name 'Match type' -> 'Match_type' [astropy.io.votable.xmlutil]\n",
      "WARNING: W03: ../UnselectedGals_sep_by_cluster/CGr84/unselected_field_gals_CGr84.vot:10:0: W03: Implicitly generating an ID from a name 'Match type' -> 'Match_type' [astropy.io.votable.xmlutil]\n",
      "WARNING: W03: ../UnselectedGals_sep_by_cluster/CGr114/unselected_field_gals_CGr114.vot:19:0: W03: Implicitly generating an ID from a name 'First input table' -> 'First_input_table' [astropy.io.votable.xmlutil]\n",
      "WARNING: W03: ../UnselectedGals_sep_by_cluster/CGr23/unselected_field_gals_CGr23.vot:10:0: W03: Implicitly generating an ID from a name 'Match type' -> 'Match_type' [astropy.io.votable.xmlutil]\n",
      "WARNING: W03: ../UnselectedGals_sep_by_cluster/CGr26/unselected_field_gals_CGr26.vot:19:0: W03: Implicitly generating an ID from a name 'First input table' -> 'First_input_table' [astropy.io.votable.xmlutil]\n"
     ]
    },
    {
     "name": "stdout",
     "output_type": "stream",
     "text": [
      "The file ../UnselectedGals_sep_by_cluster/CGr32/unselected_field_gals_CGr32.vot is a VOtable, right ? True\n"
     ]
    },
    {
     "name": "stderr",
     "output_type": "stream",
     "text": [
      "WARNING: W03: ../UnselectedGals_sep_by_cluster/CGr28/unselected_field_gals_CGr28.vot:10:0: W03: Implicitly generating an ID from a name 'Match type' -> 'Match_type' [astropy.io.votable.xmlutil]\n",
      "WARNING: W03: ../UnselectedGals_sep_by_cluster/CGr30/unselected_field_gals_CGr30.vot:16:0: W03: Implicitly generating an ID from a name 'Join Type' -> 'Join_Type' [astropy.io.votable.xmlutil]\n",
      "WARNING: W03: ../UnselectedGals_sep_by_cluster/CGr34/unselected_field_gals_CGr34.vot:13:0: W03: Implicitly generating an ID from a name 'Match algorithm' -> 'Match_algorithm' [astropy.io.votable.xmlutil]\n",
      "WARNING: W03: ../UnselectedGals_sep_by_cluster/CGr23/unselected_field_gals_CGr23.vot:13:0: W03: Implicitly generating an ID from a name 'Match algorithm' -> 'Match_algorithm' [astropy.io.votable.xmlutil]\n",
      "WARNING: W03: ../UnselectedGals_sep_by_cluster/CGr28/unselected_field_gals_CGr28.vot:13:0: W03: Implicitly generating an ID from a name 'Match algorithm' -> 'Match_algorithm' [astropy.io.votable.xmlutil]\n",
      "WARNING: W03: ../UnselectedGals_sep_by_cluster/CGr114/unselected_field_gals_CGr114.vot:20:0: W03: Implicitly generating an ID from a name 'Second input table' -> 'Second_input_table' [astropy.io.votable.xmlutil]\n",
      "WARNING: W03: ../UnselectedGals_sep_by_cluster/CGr61/unselected_field_gals_CGr61.vot:13:0: W03: Implicitly generating an ID from a name 'Match algorithm' -> 'Match_algorithm' [astropy.io.votable.xmlutil]\n",
      "WARNING: W03: ../UnselectedGals_sep_by_cluster/CGr26/unselected_field_gals_CGr26.vot:20:0: W03: Implicitly generating an ID from a name 'Second input table' -> 'Second_input_table' [astropy.io.votable.xmlutil]\n",
      "WARNING: W03: ../UnselectedGals_sep_by_cluster/CGr23/unselected_field_gals_CGr23.vot:16:0: W03: Implicitly generating an ID from a name 'Join Type' -> 'Join_Type' [astropy.io.votable.xmlutil]\n",
      "WARNING: W03: ../UnselectedGals_sep_by_cluster/CGr32/unselected_field_gals_CGr32.vot:10:0: W03: Implicitly generating an ID from a name 'Match type' -> 'Match_type' [astropy.io.votable.xmlutil]\n",
      "WARNING: W03: ../UnselectedGals_sep_by_cluster/CGr28/unselected_field_gals_CGr28.vot:16:0: W03: Implicitly generating an ID from a name 'Join Type' -> 'Join_Type' [astropy.io.votable.xmlutil]\n",
      "WARNING: W03: ../UnselectedGals_sep_by_cluster/CGr23/unselected_field_gals_CGr23.vot:19:0: W03: Implicitly generating an ID from a name 'First input table' -> 'First_input_table' [astropy.io.votable.xmlutil]\n",
      "WARNING: W03: ../UnselectedGals_sep_by_cluster/CGr30/unselected_field_gals_CGr30.vot:19:0: W03: Implicitly generating an ID from a name 'First input table' -> 'First_input_table' [astropy.io.votable.xmlutil]\n",
      "WARNING: W03: ../UnselectedGals_sep_by_cluster/CGr84/unselected_field_gals_CGr84.vot:13:0: W03: Implicitly generating an ID from a name 'Match algorithm' -> 'Match_algorithm' [astropy.io.votable.xmlutil]\n",
      "WARNING: W03: ../UnselectedGals_sep_by_cluster/CGr28/unselected_field_gals_CGr28.vot:19:0: W03: Implicitly generating an ID from a name 'First input table' -> 'First_input_table' [astropy.io.votable.xmlutil]\n",
      "WARNING: W03: ../UnselectedGals_sep_by_cluster/CGr32/unselected_field_gals_CGr32.vot:13:0: W03: Implicitly generating an ID from a name 'Match algorithm' -> 'Match_algorithm' [astropy.io.votable.xmlutil]\n",
      "WARNING: W03: ../UnselectedGals_sep_by_cluster/CGr28/unselected_field_gals_CGr28.vot:20:0: W03: Implicitly generating an ID from a name 'Second input table' -> 'Second_input_table' [astropy.io.votable.xmlutil]\n",
      "WARNING: W03: ../UnselectedGals_sep_by_cluster/CGr23/unselected_field_gals_CGr23.vot:20:0: W03: Implicitly generating an ID from a name 'Second input table' -> 'Second_input_table' [astropy.io.votable.xmlutil]\n",
      "WARNING: W03: ../UnselectedGals_sep_by_cluster/CGr34/unselected_field_gals_CGr34.vot:16:0: W03: Implicitly generating an ID from a name 'Join Type' -> 'Join_Type' [astropy.io.votable.xmlutil]\n"
     ]
    },
    {
     "name": "stdout",
     "output_type": "stream",
     "text": [
      "The file ../UnselectedGals_sep_by_cluster/CGr51/unselected_field_gals_CGr51.vot is a VOtable, right ? True\n"
     ]
    },
    {
     "name": "stderr",
     "output_type": "stream",
     "text": [
      "WARNING: W03: ../UnselectedGals_sep_by_cluster/CGr61/unselected_field_gals_CGr61.vot:16:0: W03: Implicitly generating an ID from a name 'Join Type' -> 'Join_Type' [astropy.io.votable.xmlutil]\n",
      "WARNING: W03: ../UnselectedGals_sep_by_cluster/CGr32/unselected_field_gals_CGr32.vot:16:0: W03: Implicitly generating an ID from a name 'Join Type' -> 'Join_Type' [astropy.io.votable.xmlutil]\n",
      "WARNING: W03: ../UnselectedGals_sep_by_cluster/CGr61/unselected_field_gals_CGr61.vot:19:0: W03: Implicitly generating an ID from a name 'First input table' -> 'First_input_table' [astropy.io.votable.xmlutil]\n",
      "WARNING: W03: ../UnselectedGals_sep_by_cluster/CGr30/unselected_field_gals_CGr30.vot:20:0: W03: Implicitly generating an ID from a name 'Second input table' -> 'Second_input_table' [astropy.io.votable.xmlutil]\n",
      "WARNING: W03: ../UnselectedGals_sep_by_cluster/CGr84/unselected_field_gals_CGr84.vot:16:0: W03: Implicitly generating an ID from a name 'Join Type' -> 'Join_Type' [astropy.io.votable.xmlutil]\n",
      "WARNING: W03: ../UnselectedGals_sep_by_cluster/CGr32/unselected_field_gals_CGr32.vot:19:0: W03: Implicitly generating an ID from a name 'First input table' -> 'First_input_table' [astropy.io.votable.xmlutil]\n",
      "WARNING: W03: ../UnselectedGals_sep_by_cluster/CGr34/unselected_field_gals_CGr34.vot:19:0: W03: Implicitly generating an ID from a name 'First input table' -> 'First_input_table' [astropy.io.votable.xmlutil]\n",
      "WARNING: W03: ../UnselectedGals_sep_by_cluster/CGr51/unselected_field_gals_CGr51.vot:10:0: W03: Implicitly generating an ID from a name 'Match type' -> 'Match_type' [astropy.io.votable.xmlutil]\n",
      "WARNING: W03: ../UnselectedGals_sep_by_cluster/CGr32/unselected_field_gals_CGr32.vot:20:0: W03: Implicitly generating an ID from a name 'Second input table' -> 'Second_input_table' [astropy.io.votable.xmlutil]\n"
     ]
    },
    {
     "name": "stdout",
     "output_type": "stream",
     "text": [
      "The file ../UnselectedGals_sep_by_cluster/CGr79/unselected_field_gals_CGr79.vot is a VOtable, right ? True\n"
     ]
    },
    {
     "name": "stderr",
     "output_type": "stream",
     "text": [
      "WARNING: W03: ../UnselectedGals_sep_by_cluster/CGr34/unselected_field_gals_CGr34.vot:20:0: W03: Implicitly generating an ID from a name 'Second input table' -> 'Second_input_table' [astropy.io.votable.xmlutil]\n",
      "WARNING: W03: ../UnselectedGals_sep_by_cluster/CGr84/unselected_field_gals_CGr84.vot:19:0: W03: Implicitly generating an ID from a name 'First input table' -> 'First_input_table' [astropy.io.votable.xmlutil]\n",
      "WARNING: W03: ../UnselectedGals_sep_by_cluster/CGr61/unselected_field_gals_CGr61.vot:20:0: W03: Implicitly generating an ID from a name 'Second input table' -> 'Second_input_table' [astropy.io.votable.xmlutil]\n"
     ]
    },
    {
     "name": "stdout",
     "output_type": "stream",
     "text": [
      "The file ../UnselectedGals_sep_by_cluster/CGr84-N/unselected_field_gals_CGr84-N.vot is a VOtable, right ? True\n"
     ]
    },
    {
     "name": "stderr",
     "output_type": "stream",
     "text": [
      "WARNING: W03: ../UnselectedGals_sep_by_cluster/CGr51/unselected_field_gals_CGr51.vot:13:0: W03: Implicitly generating an ID from a name 'Match algorithm' -> 'Match_algorithm' [astropy.io.votable.xmlutil]\n",
      "WARNING: W03: ../UnselectedGals_sep_by_cluster/CGr84/unselected_field_gals_CGr84.vot:20:0: W03: Implicitly generating an ID from a name 'Second input table' -> 'Second_input_table' [astropy.io.votable.xmlutil]\n",
      "WARNING: W03: ../UnselectedGals_sep_by_cluster/CGr79/unselected_field_gals_CGr79.vot:10:0: W03: Implicitly generating an ID from a name 'Match type' -> 'Match_type' [astropy.io.votable.xmlutil]\n",
      "WARNING: W03: ../UnselectedGals_sep_by_cluster/CGr51/unselected_field_gals_CGr51.vot:16:0: W03: Implicitly generating an ID from a name 'Join Type' -> 'Join_Type' [astropy.io.votable.xmlutil]\n",
      "WARNING: W03: ../UnselectedGals_sep_by_cluster/CGr79/unselected_field_gals_CGr79.vot:13:0: W03: Implicitly generating an ID from a name 'Match algorithm' -> 'Match_algorithm' [astropy.io.votable.xmlutil]\n",
      "WARNING: W03: ../UnselectedGals_sep_by_cluster/CGr79/unselected_field_gals_CGr79.vot:16:0: W03: Implicitly generating an ID from a name 'Join Type' -> 'Join_Type' [astropy.io.votable.xmlutil]\n",
      "WARNING: W03: ../UnselectedGals_sep_by_cluster/CGr51/unselected_field_gals_CGr51.vot:19:0: W03: Implicitly generating an ID from a name 'First input table' -> 'First_input_table' [astropy.io.votable.xmlutil]\n",
      "WARNING: W03: ../UnselectedGals_sep_by_cluster/CGr79/unselected_field_gals_CGr79.vot:19:0: W03: Implicitly generating an ID from a name 'First input table' -> 'First_input_table' [astropy.io.votable.xmlutil]\n",
      "WARNING: W03: ../UnselectedGals_sep_by_cluster/CGr51/unselected_field_gals_CGr51.vot:20:0: W03: Implicitly generating an ID from a name 'Second input table' -> 'Second_input_table' [astropy.io.votable.xmlutil]\n",
      "WARNING: W03: ../UnselectedGals_sep_by_cluster/CGr84-N/unselected_field_gals_CGr84-N.vot:10:0: W03: Implicitly generating an ID from a name 'Match type' -> 'Match_type' [astropy.io.votable.xmlutil]\n",
      "WARNING: W03: ../UnselectedGals_sep_by_cluster/CGr79/unselected_field_gals_CGr79.vot:20:0: W03: Implicitly generating an ID from a name 'Second input table' -> 'Second_input_table' [astropy.io.votable.xmlutil]\n",
      "WARNING: W03: ../UnselectedGals_sep_by_cluster/CGr84-N/unselected_field_gals_CGr84-N.vot:13:0: W03: Implicitly generating an ID from a name 'Match algorithm' -> 'Match_algorithm' [astropy.io.votable.xmlutil]\n",
      "WARNING: W03: ../UnselectedGals_sep_by_cluster/CGr84-N/unselected_field_gals_CGr84-N.vot:16:0: W03: Implicitly generating an ID from a name 'Join Type' -> 'Join_Type' [astropy.io.votable.xmlutil]\n",
      "WARNING: W03: ../UnselectedGals_sep_by_cluster/CGr84-N/unselected_field_gals_CGr84-N.vot:19:0: W03: Implicitly generating an ID from a name 'First input table' -> 'First_input_table' [astropy.io.votable.xmlutil]\n",
      "WARNING: W03: ../UnselectedGals_sep_by_cluster/CGr84-N/unselected_field_gals_CGr84-N.vot:20:0: W03: Implicitly generating an ID from a name 'Second input table' -> 'Second_input_table' [astropy.io.votable.xmlutil]\n"
     ]
    }
   ],
   "source": [
    "size     = 0.7 #arcsec\n",
    "symbol   = \"box\"\n",
    "selected = False\n",
    "color    = \"blue\"\n",
    "angle    = 0\n",
    "for f, n in zip(files2, nums):\n",
    "    proc = multiprocessing.Process(name=n, target=writeFile, args=(f, size, angle, color, symbol, selected))\n",
    "    proc.start()"
   ]
  },
  {
   "cell_type": "code",
   "execution_count": null,
   "metadata": {},
   "outputs": [],
   "source": []
  }
 ],
 "metadata": {
  "kernelspec": {
   "display_name": "Python 3",
   "language": "python",
   "name": "python3"
  },
  "language_info": {
   "codemirror_mode": {
    "name": "ipython",
    "version": 3
   },
   "file_extension": ".py",
   "mimetype": "text/x-python",
   "name": "python",
   "nbconvert_exporter": "python",
   "pygments_lexer": "ipython3",
   "version": "3.7.1"
  }
 },
 "nbformat": 4,
 "nbformat_minor": 2
}
