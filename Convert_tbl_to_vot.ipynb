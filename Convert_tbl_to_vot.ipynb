{
 "cells": [
  {
   "cell_type": "code",
   "execution_count": 71,
   "metadata": {},
   "outputs": [],
   "source": [
    "from astropy.io import ascii as asci\n",
    "from astropy.io.votable import writeto\n",
    "from astropy.table import Table\n",
    "import numpy as np\n",
    "\n",
    "# Writes the content of a structured array to a .vot file\n",
    "def write_array_to_vot(array, outputFile, isTable):\n",
    "    ###################################################\n",
    "    # IN:                                             #\n",
    "    #     array      : content to write into the file #\n",
    "    #     outputFile : file whereto write             #\n",
    "    ###################################################\n",
    "    \n",
    "    #Creates an astropy table and writes it into a file\n",
    "    if not isTable:\n",
    "        table = Table(data=array)\n",
    "    else:\n",
    "        table = array\n",
    "        \n",
    "    writeto(table, outputFile)\n",
    "    return"
   ]
  },
  {
   "cell_type": "code",
   "execution_count": 72,
   "metadata": {},
   "outputs": [
    {
     "data": {
      "text/plain": [
       "['cosmos_morph_cassata_1.1.vot', 'cosmos_morph_tasca_1.1.vot']"
      ]
     },
     "execution_count": 72,
     "metadata": {},
     "output_type": "execute_result"
    }
   ],
   "source": [
    "path       = \"morphology/\"\n",
    "files      = [\"cosmos_morph_cassata_1.1.tbl\", \"cosmos_morph_tasca_1.1.tbl\"]\n",
    "\n",
    "outputFile = []\n",
    "for name in files:\n",
    "    outputFile.append(name[:-3]+\"vot\")\n",
    "    \n",
    "outputFile"
   ]
  },
  {
   "cell_type": "code",
   "execution_count": 74,
   "metadata": {},
   "outputs": [
    {
     "name": "stdout",
     "output_type": "stream",
     "text": [
      "Reading file cosmos_morph_cassata_1.1.tbl\n",
      "Writing output to cosmos_morph_cassata_1.1.vot\n",
      "Reading file cosmos_morph_tasca_1.1.tbl\n",
      "Writing output to cosmos_morph_tasca_1.1.vot\n"
     ]
    }
   ],
   "source": [
    "for file, out in zip(files, outputFile):\n",
    "    \n",
    "    print(\"Reading file\", file)\n",
    "    tbl = asci.read(path+file)\n",
    "    \n",
    "    for i in tbl.dtype.names:\n",
    "        if tbl[i].unit == \"degrees\":\n",
    "            tbl[i].unit = \"deg\"\n",
    "        if tbl[i].unit == \"pixels\":\n",
    "            tbl[i].unit = \"pixel\"\n",
    "\n",
    "    print(\"Writing output to\", out)\n",
    "    write_array_to_vot(tbl, path+out, True)"
   ]
  },
  {
   "cell_type": "code",
   "execution_count": 70,
   "metadata": {},
   "outputs": [
    {
     "data": {
      "text/html": [
       "<i>Table masked=True length=232022</i>\n",
       "<table id=\"table140359429788616\" class=\"table-striped table-bordered table-condensed\">\n",
       "<thead><tr><th>ID</th><th>RA</th><th>DEC</th><th>MAG_AUTO_ACS</th><th>R_PETRO</th><th>R_HALF</th><th>CONC_PETRO</th><th>ASYMMETRY</th><th>GINI</th><th>M20</th><th>Axial Ratio</th><th>AUTOCLASS</th><th>CLASSWEIGHT</th></tr></thead>\n",
       "<thead><tr><th></th><th>deg</th><th>deg</th><th>mag</th><th>pix</th><th>pix</th><th></th><th></th><th></th><th></th><th></th><th></th><th></th></tr></thead>\n",
       "<thead><tr><th>int64</th><th>float64</th><th>float64</th><th>float64</th><th>float64</th><th>float64</th><th>float64</th><th>float64</th><th>float64</th><th>float64</th><th>float64</th><th>int64</th><th>float64</th></tr></thead>\n",
       "<tr><td>1</td><td>149.4959717</td><td>2.4994667</td><td>24.4382992</td><td>18.0669994</td><td>8.7150002</td><td>2.747</td><td>0.264</td><td>0.353</td><td>-1.186</td><td>0.321</td><td>3</td><td>0.64</td></tr>\n",
       "<tr><td>2</td><td>149.4943542</td><td>2.490427</td><td>23.8577003</td><td>18.7660007</td><td>7.4720001</td><td>3.29</td><td>0.104</td><td>0.453</td><td>-1.977</td><td>0.843</td><td>1</td><td>0.55</td></tr>\n",
       "<tr><td>3</td><td>149.4949036</td><td>2.494936</td><td>23.7050991</td><td>14.4300003</td><td>5.7309999</td><td>3.4790001</td><td>0.088</td><td>0.524</td><td>-1.971</td><td>0.873</td><td>1</td><td>0.55</td></tr>\n",
       "<tr><td>8</td><td>149.4937897</td><td>2.4938014</td><td>24.5589008</td><td>14.2919998</td><td>5.3280001</td><td>3.164</td><td>0.287</td><td>0.486</td><td>-1.635</td><td>0.721</td><td>3</td><td>0.73</td></tr>\n",
       "<tr><td>9</td><td>149.4938354</td><td>2.4962122</td><td>20.9029999</td><td>5.408</td><td>2.1240001</td><td>2.756</td><td>0.047</td><td>0.524</td><td>-1.63</td><td>0.897</td><td>1</td><td>0.91</td></tr>\n",
       "<tr><td>13</td><td>149.4915009</td><td>2.4930141</td><td>23.3483009</td><td>19.2280006</td><td>9.3559999</td><td>2.579</td><td>0.114</td><td>0.391</td><td>-1.3200001</td><td>0.288</td><td>2</td><td>0.82</td></tr>\n",
       "<tr><td>14</td><td>149.4914093</td><td>2.493165</td><td>23.7457008</td><td>19.9449997</td><td>8.7200003</td><td>3.102</td><td>0.222</td><td>0.424</td><td>-1.62</td><td>0.441</td><td>3</td><td>0.55</td></tr>\n",
       "<tr><td>15</td><td>149.4908295</td><td>2.4899521</td><td>23.7749996</td><td>23.9529991</td><td>11.4860001</td><td>2.8069999</td><td>0.187</td><td>0.382</td><td>-1.3940001</td><td>0.339</td><td>3</td><td>0.45</td></tr>\n",
       "<tr><td>16</td><td>149.4918671</td><td>2.4964864</td><td>23.9752007</td><td>5.566</td><td>2.2690001</td><td>2.684</td><td>0.015</td><td>0.524</td><td>-1.553</td><td>0.945</td><td>1</td><td>0.82</td></tr>\n",
       "<tr><td>...</td><td>...</td><td>...</td><td>...</td><td>...</td><td>...</td><td>...</td><td>...</td><td>...</td><td>...</td><td>...</td><td>...</td><td>...</td></tr>\n",
       "<tr><td>1501899</td><td>150.7488403</td><td>1.8763171</td><td>24.6800995</td><td>10.618</td><td>4.1170001</td><td>3.2579999</td><td>0.08</td><td>0.478</td><td>-1.997</td><td>0.714</td><td>2</td><td>0.55</td></tr>\n",
       "<tr><td>1501907</td><td>150.7502594</td><td>1.8858856</td><td>24.7162991</td><td>19.9519997</td><td>9.2749996</td><td>2.875</td><td>0.272</td><td>0.337</td><td>-1.268</td><td>0.444</td><td>3</td><td>0.64</td></tr>\n",
       "<tr><td>1501974</td><td>150.7449341</td><td>1.8655864</td><td>24.8896008</td><td>19.1110001</td><td>9.7309999</td><td>2.6429999</td><td>0.319</td><td>0.265</td><td>-0.896</td><td>0.939</td><td>3</td><td>0.91</td></tr>\n",
       "<tr><td>1502022</td><td>150.7427368</td><td>1.8601012</td><td>24.7933006</td><td>7.6869998</td><td>3.586</td><td>2.7390001</td><td>0.094</td><td>0.438</td><td>-1.5779999</td><td>0.822</td><td>2</td><td>0.64</td></tr>\n",
       "<tr><td>1502034</td><td>150.7463989</td><td>1.8838481</td><td>24.4104004</td><td>5.2909999</td><td>2.1270001</td><td>2.6700001</td><td>0.083</td><td>0.507</td><td>-1.483</td><td>0.837</td><td>1</td><td>0.55</td></tr>\n",
       "<tr><td>1502131</td><td>150.7423553</td><td>1.8762872</td><td>24.9834995</td><td>13.5710001</td><td>5.099</td><td>3.198</td><td>0.155</td><td>0.423</td><td>-1.936</td><td>0.533</td><td>2</td><td>0.73</td></tr>\n",
       "<tr><td>1502166</td><td>150.7425385</td><td>1.8825631</td><td>24.6331997</td><td>23.0970001</td><td>10.5229998</td><td>3.1760001</td><td>0.395</td><td>0.325</td><td>-1.196</td><td>0.327</td><td>3</td><td>0.73</td></tr>\n",
       "<tr><td>1502247</td><td>150.7417145</td><td>1.8940636</td><td>24.5618</td><td>16.3770008</td><td>8.5080004</td><td>2.21</td><td>0.2</td><td>0.277</td><td>-0.995</td><td>0.502</td><td>3</td><td>0.55</td></tr>\n",
       "<tr><td>1502301</td><td>150.7377167</td><td>1.8786353</td><td>23.7667999</td><td>28.4200001</td><td>17.3700008</td><td>2.671</td><td>0.573</td><td>0.307</td><td>-0.866</td><td>0.329</td><td>3</td><td>0.91</td></tr>\n",
       "<tr><td>1502308</td><td>150.7405548</td><td>1.8968379</td><td>24.4999008</td><td>17.7779999</td><td>9.224</td><td>2.8299999</td><td>0.261</td><td>0.345</td><td>-1.406</td><td>0.604</td><td>2</td><td>0.55</td></tr>\n",
       "</table>"
      ],
      "text/plain": [
       "<Table masked=True length=232022>\n",
       "   ID        RA        DEC    MAG_AUTO_ACS ... Axial Ratio AUTOCLASS CLASSWEIGHT\n",
       "            deg        deg        mag      ...                                  \n",
       " int64    float64    float64    float64    ...   float64     int64     float64  \n",
       "------- ----------- --------- ------------ ... ----------- --------- -----------\n",
       "      1 149.4959717 2.4994667   24.4382992 ...       0.321         3        0.64\n",
       "      2 149.4943542  2.490427   23.8577003 ...       0.843         1        0.55\n",
       "      3 149.4949036  2.494936   23.7050991 ...       0.873         1        0.55\n",
       "      8 149.4937897 2.4938014   24.5589008 ...       0.721         3        0.73\n",
       "      9 149.4938354 2.4962122   20.9029999 ...       0.897         1        0.91\n",
       "     13 149.4915009 2.4930141   23.3483009 ...       0.288         2        0.82\n",
       "     14 149.4914093  2.493165   23.7457008 ...       0.441         3        0.55\n",
       "     15 149.4908295 2.4899521   23.7749996 ...       0.339         3        0.45\n",
       "     16 149.4918671 2.4964864   23.9752007 ...       0.945         1        0.82\n",
       "    ...         ...       ...          ... ...         ...       ...         ...\n",
       "1501899 150.7488403 1.8763171   24.6800995 ...       0.714         2        0.55\n",
       "1501907 150.7502594 1.8858856   24.7162991 ...       0.444         3        0.64\n",
       "1501974 150.7449341 1.8655864   24.8896008 ...       0.939         3        0.91\n",
       "1502022 150.7427368 1.8601012   24.7933006 ...       0.822         2        0.64\n",
       "1502034 150.7463989 1.8838481   24.4104004 ...       0.837         1        0.55\n",
       "1502131 150.7423553 1.8762872   24.9834995 ...       0.533         2        0.73\n",
       "1502166 150.7425385 1.8825631   24.6331997 ...       0.327         3        0.73\n",
       "1502247 150.7417145 1.8940636      24.5618 ...       0.502         3        0.55\n",
       "1502301 150.7377167 1.8786353   23.7667999 ...       0.329         3        0.91\n",
       "1502308 150.7405548 1.8968379   24.4999008 ...       0.604         2        0.55"
      ]
     },
     "execution_count": 70,
     "metadata": {},
     "output_type": "execute_result"
    }
   ],
   "source": [
    "tbl"
   ]
  },
  {
   "cell_type": "code",
   "execution_count": null,
   "metadata": {},
   "outputs": [],
   "source": []
  }
 ],
 "metadata": {
  "kernelspec": {
   "display_name": "Python 3",
   "language": "python",
   "name": "python3"
  },
  "language_info": {
   "codemirror_mode": {
    "name": "ipython",
    "version": 3
   },
   "file_extension": ".py",
   "mimetype": "text/x-python",
   "name": "python",
   "nbconvert_exporter": "python",
   "pygments_lexer": "ipython3",
   "version": "3.7.1"
  }
 },
 "nbformat": 4,
 "nbformat_minor": 2
}
