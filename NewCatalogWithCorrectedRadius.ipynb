{
 "cells": [
  {
   "cell_type": "markdown",
   "metadata": {
    "toc-hr-collapsed": false
   },
   "source": [
    "# BUILDING A TABLE OF FIELD GALS WITH CASSATA AND/OR ZURICH HALF-LIGHT RADIUS COUNTERPART AND ADDING A NEW COLUMN WHICH IS EITHER ZURICH RADIUS OR BIAS CORRECTED CASSATA RADIUS"
   ]
  },
  {
   "cell_type": "markdown",
   "metadata": {},
   "source": [
    "## Getting data"
   ]
  },
  {
   "cell_type": "code",
   "execution_count": 2,
   "metadata": {},
   "outputs": [
    {
     "name": "stdout",
     "output_type": "stream",
     "text": [
      "The file outputs/matching_fieldGals_with_Cassata_and_Zurich_acc_1_arcsec.vot is a VOtable, right ? True\n"
     ]
    },
    {
     "name": "stderr",
     "output_type": "stream",
     "text": [
      "WARNING: W03: outputs/matching_fieldGals_with_Cassata_and_Zurich_acc_1_arcsec.vot:10:0: W03: Implicitly generating an ID from a name 'Match type' -> 'Match_type' [astropy.io.votable.xmlutil]\n",
      "WARNING: W03: outputs/matching_fieldGals_with_Cassata_and_Zurich_acc_1_arcsec.vot:13:0: W03: Implicitly generating an ID from a name 'Match algorithm' -> 'Match_algorithm' [astropy.io.votable.xmlutil]\n",
      "WARNING: W03: outputs/matching_fieldGals_with_Cassata_and_Zurich_acc_1_arcsec.vot:16:0: W03: Implicitly generating an ID from a name 'Join Type' -> 'Join_Type' [astropy.io.votable.xmlutil]\n",
      "WARNING: W03: outputs/matching_fieldGals_with_Cassata_and_Zurich_acc_1_arcsec.vot:19:0: W03: Implicitly generating an ID from a name 'First input table' -> 'First_input_table' [astropy.io.votable.xmlutil]\n",
      "WARNING: W03: outputs/matching_fieldGals_with_Cassata_and_Zurich_acc_1_arcsec.vot:20:0: W03: Implicitly generating an ID from a name 'Second input table' -> 'Second_input_table' [astropy.io.votable.xmlutil]\n",
      "WARNING: W03: outputs/matching_fieldGals_with_Cassata_and_Zurich_acc_1_arcsec.vot:21:0: W03: Implicitly generating an ID from a name 'Match type' -> 'Match_type' [astropy.io.votable.xmlutil]\n",
      "WARNING: W03: outputs/matching_fieldGals_with_Cassata_and_Zurich_acc_1_arcsec.vot:24:0: W03: Implicitly generating an ID from a name 'Match algorithm' -> 'Match_algorithm' [astropy.io.votable.xmlutil]\n",
      "WARNING: W03: outputs/matching_fieldGals_with_Cassata_and_Zurich_acc_1_arcsec.vot:27:0: W03: Implicitly generating an ID from a name 'Join Type' -> 'Join_Type' [astropy.io.votable.xmlutil]\n",
      "WARNING: W03: outputs/matching_fieldGals_with_Cassata_and_Zurich_acc_1_arcsec.vot:30:0: W03: Implicitly generating an ID from a name 'First input table' -> 'First_input_table' [astropy.io.votable.xmlutil]\n",
      "WARNING: W03: outputs/matching_fieldGals_with_Cassata_and_Zurich_acc_1_arcsec.vot:31:0: W03: Implicitly generating an ID from a name 'Second input table' -> 'Second_input_table' (suppressing further warnings of this type...) [astropy.io.votable.xmlutil]\n",
      "WARNING: W50: outputs/matching_fieldGals_with_Cassata_and_Zurich_acc_1_arcsec.vot:997:0: W50: Invalid unit string 'TILE' [astropy.io.votable.tree]\n"
     ]
    },
    {
     "name": "stdout",
     "output_type": "stream",
     "text": [
      "Size of matching_fieldGals_with_Cassata_and_Zurich_acc_1_arcsec.vot is 186 \n",
      "\n",
      "The file outputs/matching_fieldGals_with_Cassata_acc_1_arcsec.vot is a VOtable, right ? True\n"
     ]
    },
    {
     "name": "stderr",
     "output_type": "stream",
     "text": [
      "WARNING: W03: outputs/matching_fieldGals_with_Cassata_acc_1_arcsec.vot:10:0: W03: Implicitly generating an ID from a name 'Match type' -> 'Match_type' [astropy.io.votable.xmlutil]\n",
      "WARNING: W03: outputs/matching_fieldGals_with_Cassata_acc_1_arcsec.vot:13:0: W03: Implicitly generating an ID from a name 'Match algorithm' -> 'Match_algorithm' [astropy.io.votable.xmlutil]\n",
      "WARNING: W03: outputs/matching_fieldGals_with_Cassata_acc_1_arcsec.vot:16:0: W03: Implicitly generating an ID from a name 'Join Type' -> 'Join_Type' [astropy.io.votable.xmlutil]\n",
      "WARNING: W03: outputs/matching_fieldGals_with_Cassata_acc_1_arcsec.vot:19:0: W03: Implicitly generating an ID from a name 'First input table' -> 'First_input_table' [astropy.io.votable.xmlutil]\n",
      "WARNING: W03: outputs/matching_fieldGals_with_Cassata_acc_1_arcsec.vot:20:0: W03: Implicitly generating an ID from a name 'Second input table' -> 'Second_input_table' [astropy.io.votable.xmlutil]\n"
     ]
    },
    {
     "name": "stdout",
     "output_type": "stream",
     "text": [
      "Size of matching_fieldGals_with_Cassata_acc_1_arcsec.vot is 298 \n",
      "\n"
     ]
    }
   ],
   "source": [
    "pathdata = \"outputs/\"\n",
    "data     = [\"matching_fieldGals_with_Cassata_and_Zurich_acc_1_arcsec.vot\", \n",
    "            \"matching_fieldGals_with_Cassata_acc_1_arcsec.vot\"]\n",
    "\n",
    "#Checking that file format is correct\n",
    "for name in data:\n",
    "    voTag = is_VOtable(pathdata+name)\n",
    "    if voTag:        \n",
    "        fullFileName = pathdata + name\n",
    "        #Retrieving the data\n",
    "        table = parse(fullFileName)\n",
    "        full  = table.get_first_table()\n",
    "        \n",
    "        print(\"Size of\", name, \"is\", full.array.shape[0], \"\\n\")\n",
    "    else:\n",
    "        exit(\"Exiting\")"
   ]
  },
  {
   "cell_type": "code",
   "execution_count": 3,
   "metadata": {},
   "outputs": [
    {
     "name": "stdout",
     "output_type": "stream",
     "text": [
      "All the galaxies are only listed once in the catalog matching_fieldGals_with_Cassata_and_Zurich_acc_1_arcsec.vot\n",
      "All the galaxies are only listed once in the catalog matching_fieldGals_with_Cassata_acc_1_arcsec.vot\n"
     ]
    }
   ],
   "source": [
    "matchWithCassata       = parse(pathdata+data[1]).get_first_table().array\n",
    "matchWithZurichCassata = parse(pathdata+data[0]).get_first_table().array\n",
    "\n",
    "#Checking that the matching procedure did not duplicate galaxies\n",
    "checkDupplicates([matchWithZurichCassata, matchWithCassata], \n",
    "                 names=[\"matching_fieldGals_with_Cassata_and_Zurich_acc_1_arcsec.vot\", \n",
    "                        \"matching_fieldGals_with_Cassata_acc_1_arcsec.vot\"])"
   ]
  },
  {
   "cell_type": "code",
   "execution_count": 4,
   "metadata": {},
   "outputs": [
    {
     "name": "stdout",
     "output_type": "stream",
     "text": [
      "Stat for catalog number 0 :\n",
      "Maximum separation is 0.8778970454248154.\n",
      "Mean separation is 0.10371229092642334.\n",
      "Median separation is 0.06769009751877036.\n",
      "1st quantile is 0.042612085489821414.\n",
      "3rd quantile is 0.12115790194733166.\n",
      "Stat for catalog number 1 :\n",
      "Maximum separation is 0.8768483517534824.\n",
      "Mean separation is 0.10767987793148323.\n",
      "Median separation is 0.0709917623259244.\n",
      "1st quantile is 0.0429616639175216.\n",
      "3rd quantile is 0.1264333202418157.\n"
     ]
    },
    {
     "name": "stderr",
     "output_type": "stream",
     "text": [
      "/home/wilfried/anaconda3/lib/python3.7/site-packages/numpy/core/fromnumeric.py:688: UserWarning: Warning: 'partition' will ignore the 'mask' of the MaskedColumn.\n",
      "  a.partition(kth, axis=axis, kind=kind, order=order)\n"
     ]
    },
    {
     "name": "stdout",
     "output_type": "stream",
     "text": [
      "No value 9999 found within array number 0\n",
      "No value 9999 found within array number 1\n",
      "No value 1 found within array number 0\n",
      "No value 1 found within array number 1\n",
      "\n",
      "Number of galaxies in matching catalog with Cassata: 261 \n",
      "Number of galaxies in matching catalog with Cassata & Zurich: 176\n"
     ]
    }
   ],
   "source": [
    "#Converting to an astropy table for simplicity\n",
    "tableMatchBoth = Table(matchWithZurichCassata)        \n",
    "tableMatchCass = Table(matchWithCassata)\n",
    "\n",
    "#Checking that the maximum angular separation is less than 1 arcsec in the matching tables\n",
    "printSimpleStat([tableMatchBoth['Separation_ZURICH'], \n",
    "                 tableMatchCass['Separation_CASSATA']])\n",
    "\n",
    "#Remove galaxies which have wrong ID_Laigle_16 values (9999)\n",
    "tableMatchBoth = tableMatchBoth[tableMatchBoth['ID_Laigle_16'] != 9999]\n",
    "tableMatchBoth = tableMatchBoth[tableMatchBoth['CONFID'] > 1]\n",
    "tableMatchCass = tableMatchCass[tableMatchCass['ID_Laigle_16'] != 9999]\n",
    "tableMatchCass = tableMatchCass[tableMatchCass['CONFID'] > 1]\n",
    "\n",
    "findWhereIsValue([tableMatchCass['ID_Laigle_16'], tableMatchBoth['ID_Laigle_16']], 9999)\n",
    "findWhereIsValue([tableMatchCass['CONFID'], tableMatchBoth['CONFID']], 1)\n",
    "\n",
    "#Remove the galaxy counted twice in the arrays\n",
    "uniqueArr([tableMatchBoth, tableMatchCass], [tableMatchBoth['ID_Laigle_16'], tableMatchCass['ID_Laigle_16']])\n",
    "\n",
    "print(\"\\nNumber of galaxies in matching catalog with Cassata:\", np.shape(tableMatchCass)[0], \n",
    "      \"\\nNumber of galaxies in matching catalog with Cassata & Zurich:\", np.shape(tableMatchBoth)[0])"
   ]
  },
  {
   "cell_type": "code",
   "execution_count": 5,
   "metadata": {},
   "outputs": [],
   "source": [
    "#Get a subtable with galaxies having Cassata radius only\n",
    "mask            = np.in1d(tableMatchCass['ID_Laigle_16'], tableMatchBoth['ID_Laigle_16'], \n",
    "                        assume_unique=True, invert=True)\n",
    "tableCassOnly   = tableMatchCass[mask]\n",
    "\n",
    "#Keep list of fields which appear in Cassata+Zurich matching catalog but not in Cassata matching catalog\n",
    "m               = np.in1d(tableMatchBoth.dtype.names, tableCassOnly.dtype.names, assume_unique=True, invert=True)\n",
    "listFieldsToAdd = np.asarray(tableMatchBoth.dtype.names)[m]\n",
    "\n",
    "#Adding Zurich columns (default value=-999) to the Table with galaxies in Cassata catalog only\n",
    "sz = np.shape(tableCassOnly)[0]\n",
    "for field in listFieldsToAdd:\n",
    "    tableCassOnly[field] = np.array([-9999]*sz, dtype=tableMatchBoth.dtype[field])\n",
    "\n",
    "#Correcting biais in Cassata radius\n",
    "offset         = -3.495e-1\n",
    "A              = 1.95e-3\n",
    "R_half_CASSATA = tableCassOnly['R_HALF_CASSATA']/(1+offset+A*tableCassOnly['R_HALF_CASSATA'])\n",
    "\n",
    "#Creating new column in both tables\n",
    "newField                 = 'Corrected_radius'\n",
    "tableMatchBoth[newField] = tableMatchBoth['R50_ZURICH']\n",
    "tableCassOnly[newField]  = R_half_CASSATA"
   ]
  },
  {
   "cell_type": "markdown",
   "metadata": {},
   "source": [
    "## Concatenating tables"
   ]
  },
  {
   "cell_type": "code",
   "execution_count": 6,
   "metadata": {},
   "outputs": [],
   "source": [
    "newTable = vstack([tableMatchBoth, tableCassOnly], join_type='exact')"
   ]
  },
  {
   "cell_type": "markdown",
   "metadata": {},
   "source": [
    "## Writing the full table in a new file"
   ]
  },
  {
   "cell_type": "code",
   "execution_count": 7,
   "metadata": {},
   "outputs": [],
   "source": [
    "path       = 'outputs/'\n",
    "outputFile = 'matching_fieldGals_Cassata_and_Zurich_corrected_radius_v2.vot'\n",
    "# write_array_to_vot(newTable, path+outputFile, isTable=True)"
   ]
  }
 ],
 "metadata": {
  "kernelspec": {
   "display_name": "Python 3",
   "language": "python",
   "name": "python3"
  },
  "language_info": {
   "codemirror_mode": {
    "name": "ipython",
    "version": 3
   },
   "file_extension": ".py",
   "mimetype": "text/x-python",
   "name": "python",
   "nbconvert_exporter": "python",
   "pygments_lexer": "ipython3",
   "version": "3.7.1"
  }
 },
 "nbformat": 4,
 "nbformat_minor": 2
}
