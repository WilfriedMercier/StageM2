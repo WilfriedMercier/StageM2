{
 "cells": [
  {
   "cell_type": "markdown",
   "metadata": {},
   "source": [
    "# 0.Import section"
   ]
  },
  {
   "cell_type": "code",
   "execution_count": 1,
   "metadata": {},
   "outputs": [
    {
     "data": {
      "text/plain": [
       "<Figure size 640x480 with 1 Axes>"
      ]
     },
     "metadata": {},
     "output_type": "display_data"
    }
   ],
   "source": [
    "from sys import exit\n",
    "import importlib\n",
    "\n",
    "from astropy.io.votable import is_votable, parse\n",
    "from astropy.table import Table, vstack\n",
    "from astropy.coordinates import SkyCoord\n",
    "from astropy import units as u\n",
    "import numpy as np\n",
    "            \n",
    "import matplotlib.pyplot as plt\n",
    "from matplotlib.colors import from_levels_and_colors\n",
    "from matplotlib.markers import MarkerStyle\n",
    "\n",
    "from stage2 import *"
   ]
  },
  {
   "cell_type": "markdown",
   "metadata": {},
   "source": [
    "# 1.DATA TREATMENT SECTION"
   ]
  },
  {
   "cell_type": "markdown",
   "metadata": {},
   "source": [
    "## Checking that file format is correct"
   ]
  },
  {
   "cell_type": "code",
   "execution_count": 2,
   "metadata": {},
   "outputs": [
    {
     "name": "stdout",
     "output_type": "stream",
     "text": [
      "The file outputs/matching_fieldGals_Cassata_and_Zurich_corrected_radius.vot is a VOtable, right ? True\n",
      "Size of matching_fieldGals_Cassata_and_Zurich_corrected_radius.vot is 284 \n",
      "\n"
     ]
    }
   ],
   "source": [
    "pathdata = \"outputs/\"\n",
    "data     = [\"matching_fieldGals_Cassata_and_Zurich_corrected_radius.vot\"]\n",
    "\n",
    "for name in data:\n",
    "    voTag = is_VOtable(pathdata+name)\n",
    "    if voTag:        \n",
    "        fullFileName = pathdata + name\n",
    "        #Retrieving the data\n",
    "        table = parse(fullFileName)\n",
    "        full  = table.get_first_table()\n",
    "        \n",
    "        print(\"Size of\", name, \"is\", full.array.shape[0], \"\\n\")\n",
    "    else:\n",
    "        exit(\"Exiting\")"
   ]
  },
  {
   "cell_type": "markdown",
   "metadata": {},
   "source": [
    "## Getting data"
   ]
  },
  {
   "cell_type": "code",
   "execution_count": 3,
   "metadata": {},
   "outputs": [
    {
     "name": "stdout",
     "output_type": "stream",
     "text": [
      "All the galaxies are only listed once in the catalog matching_fieldGals_Cassata_and_Zurich_corrected_radius.vot\n",
      "Stat for catalog number 0 :\n",
      "Maximum separation is 0.66913126003908 arcsec.\n",
      "Mean separation is -3591.127800158525 arcsec.\n",
      "Median separation is 0.03882939124261448 arcsec.\n",
      "1st quantile is -9999.0.\n",
      "3rd quantile is 0.08583675333021239.\n",
      "\n",
      "Number of galaxies in matching catalog: 284\n"
     ]
    }
   ],
   "source": [
    "catalog = parse(pathdata+data[0]).get_first_table().array\n",
    "fields  = np.asarray(catalog.dtype.names)\n",
    "\n",
    "#Checking that the matching procedure did not duplicate galaxies\n",
    "checkDupplicates([catalog], names=[\"matching_fieldGals_Cassata_and_Zurich_corrected_radius.vot\"])\n",
    "\n",
    "#Converting to an astropy table for simplicity\n",
    "table = Table(catalog)      \n",
    "\n",
    "printSimpleStat(catalog['Separation_ZURICH'], unit=u.arcsec)\n",
    "print(\"\\nNumber of galaxies in matching catalog:\", np.shape(table)[0])"
   ]
  },
  {
   "cell_type": "markdown",
   "metadata": {},
   "source": [
    "## 1.1 Correlation between Flux(OII) and SNR"
   ]
  },
  {
   "cell_type": "markdown",
   "metadata": {},
   "source": [
    "### 1.1.1 Getting OII flux and flux error to compute SNR"
   ]
  },
  {
   "cell_type": "code",
   "execution_count": null,
   "metadata": {},
   "outputs": [],
   "source": [
    "redshift = table['Z_MUSE']\n",
    "fluxOII = table['OII_3726_FLUX'] + table['OII_3729_FLUX']\n",
    "errflux = table['OII_3726_FLUX_ERR'] + table['OII_3729_FLUX_ERR']"
   ]
  },
  {
   "cell_type": "markdown",
   "metadata": {},
   "source": [
    "### 1.1.2 Checking and removing nan values in tables"
   ]
  },
  {
   "cell_type": "code",
   "execution_count": null,
   "metadata": {
    "scrolled": true
   },
   "outputs": [],
   "source": [
    "m = maskToRemoveVal([fluxOII, errflux], astroTableMask=True)\n",
    "m = np.logical_and(m, maskToRemoveVal([fluxOII, errflux]))\n",
    "\n",
    "fluxOII, errflux, redshift = applyMask([fluxOII, errflux, redshift], m)\n",
    "\n",
    "findWhereIsValue([fluxOII, errflux])"
   ]
  },
  {
   "cell_type": "markdown",
   "metadata": {},
   "source": [
    "### 1.1.3 Computing SNR"
   ]
  },
  {
   "cell_type": "code",
   "execution_count": null,
   "metadata": {},
   "outputs": [],
   "source": [
    "SNR     = fluxOII/errflux"
   ]
  },
  {
   "cell_type": "markdown",
   "metadata": {},
   "source": [
    "### 1.1.4 Plotting Flux(OII) vs SNR"
   ]
  },
  {
   "cell_type": "code",
   "execution_count": null,
   "metadata": {},
   "outputs": [],
   "source": [
    "plt.rcParams[\"figure.figsize\"] = (12, 12) # (w, h)\n",
    "f = plt.figure()\n",
    "plt.subplots_adjust(wspace=0.45, hspace=0.05)\n",
    "\n",
    "asManyPlots(111, SNR, fluxOII, xlabel=r'$\\rm{SNR}$', ylabel=r'$\\rm{Flux OII \\ \\ [10^{-20} erg \\, s^{-1} \\, cm^{-2}]}$',\n",
    "            plotFlag=False, color=[redshift], marker='o', cmap='gist_heat', \n",
    "            showColorbar=True, colorbarLabel=r'$\\rm{redshift \\,\\, z}$',\n",
    "            outputName='Plots/Selection_plots/Flux_vs_SNR.pdf', overwrite=False)"
   ]
  },
  {
   "cell_type": "markdown",
   "metadata": {},
   "source": [
    "## 1.2 Plotting size agains mass"
   ]
  },
  {
   "cell_type": "markdown",
   "metadata": {},
   "source": [
    "### 1.2.1 Getting data"
   ]
  },
  {
   "cell_type": "code",
   "execution_count": null,
   "metadata": {},
   "outputs": [],
   "source": [
    "#Converting size in arcsec\n",
    "size                  = table['Corrected_radius']*0.03\n",
    "redshift              = table['Z_MUSE']\n",
    "lmass                 = table['lmass']"
   ]
  },
  {
   "cell_type": "markdown",
   "metadata": {},
   "source": [
    "### 1.2.2 Removing nans and masked elements"
   ]
  },
  {
   "cell_type": "code",
   "execution_count": null,
   "metadata": {},
   "outputs": [],
   "source": [
    "m                     = np.logical_and(maskToRemoveVal([size, lmass], astroTableMask=True),\n",
    "                                       maskToRemoveVal([size, lmass]))\n",
    "size, lmass, redshift = applyMask([size, lmass, redshift], m)\n",
    "\n",
    "findWhereIsValue([size, lmass])"
   ]
  },
  {
   "cell_type": "markdown",
   "metadata": {},
   "source": [
    "### 1.2.4 Plotting"
   ]
  },
  {
   "cell_type": "code",
   "execution_count": null,
   "metadata": {},
   "outputs": [],
   "source": [
    "plt.rcParams[\"figure.figsize\"] = (12, 12) # (w, h)\n",
    "f = plt.figure()\n",
    "plt.subplots_adjust(wspace=0.45, hspace=0.05)\n",
    "\n",
    "xline = [np.min(lmass), np.max(lmass)]\n",
    "yline = [0.35, 0.35]\n",
    "asManyPlots(111, [lmass, xline], [size, yline], xlabel=r'$\\log_{10} (M/M_{\\odot})$', ylabel=r'$R_{1/2} \\ \\ [\\rm{arcsec}]$',\n",
    "            plotFlag=[False, True], color=[redshift, 'black'], marker=['o', 'None'], linestyle=[\"None\", 'dashed'],\n",
    "            cmap='gist_heat', showColorbar=True, colorbarLabel=r'$\\rm{redshift \\,\\, z}$',\n",
    "            outputName='Plots/Selection_plots/size_vs_log10Mass.pdf', overwrite=False)"
   ]
  },
  {
   "cell_type": "markdown",
   "metadata": {},
   "source": [
    "## 1.3 SNR vs size"
   ]
  },
  {
   "cell_type": "markdown",
   "metadata": {},
   "source": [
    "### 1.3.1 Getting data and Computing SNR"
   ]
  },
  {
   "cell_type": "code",
   "execution_count": null,
   "metadata": {},
   "outputs": [],
   "source": [
    "redshift = table['Z_MUSE']\n",
    "\n",
    "#Converting size in arcsec\n",
    "size    = table['Corrected_radius']*0.03\n",
    "\n",
    "fluxOII = table['OII_3726_FLUX'] + table['OII_3729_FLUX']\n",
    "errflux = table['OII_3726_FLUX_ERR'] + table['OII_3729_FLUX_ERR']\n",
    "\n",
    "m       = np.logical_and(maskToRemoveVal([fluxOII, errflux, size], astroTableMask=True),\n",
    "                         maskToRemoveVal([fluxOII, errflux, size]))\n",
    "\n",
    "size, fluxOII, errflux, redshift = applyMask([size, fluxOII, errflux, redshift], m)\n",
    "\n",
    "findWhereIsValue([fluxOII, errflux, size])\n",
    "\n",
    "SNR     = fluxOII/errflux"
   ]
  },
  {
   "cell_type": "markdown",
   "metadata": {},
   "source": [
    "### 1.3.2 Plotting SNR vs size (in arcsec)"
   ]
  },
  {
   "cell_type": "code",
   "execution_count": null,
   "metadata": {},
   "outputs": [],
   "source": [
    "plt.rcParams[\"figure.figsize\"] = (12, 12) # (w, h)\n",
    "f = plt.figure()\n",
    "plt.subplots_adjust(wspace=0.45, hspace=0.05)\n",
    "\n",
    "lsize =  np.log10(size)\n",
    "\n",
    "SNRLineX = [np.min(lsize), np.max(lsize)]\n",
    "SNRLineY = [10, 10]\n",
    "\n",
    "lszLineX = [np.log10(0.35), np.log10(0.35)]\n",
    "lszLineY = [np.min(SNR), np.max(SNR)]\n",
    "\n",
    "asManyPlots(111, [lsize, SNRLineX, lszLineX], [SNR, SNRLineY, lszLineY], \n",
    "            ylabel=r'$\\rm{SNR}$', xlabel=r'$\\log_{10} (R_{1/2} / \\rm{arcsec})]$',\n",
    "            plotFlag=[False, True, True], color=[redshift, 'k', 'k'], zorder=[0,1,2],\n",
    "            marker=['o', 'None', 'None'], linestyle=['None', 'dashed', 'dashed'],\n",
    "            cmap='gist_heat', showColorbar=True, colorbarLabel=r'$\\rm{redshift \\,\\, z}$',\n",
    "            outputName='Plots/Selection_plots/SNR_vs_R_halfLight_arcsec.pdf', overwrite=False,\n",
    "            xlim=[np.min(lsize)-0.01, np.max(lsize)+0.01],\n",
    "            ylim=[np.min(SNR)-1, np.max(SNR)+1])"
   ]
  },
  {
   "cell_type": "markdown",
   "metadata": {},
   "source": [
    "### 1.3.3 Plotting SNR vs comoving transverse distance"
   ]
  },
  {
   "cell_type": "code",
   "execution_count": null,
   "metadata": {},
   "outputs": [],
   "source": [
    "from cosmolopy.distance import comoving_distance_transverse\n",
    "cosmo = {'omega_M_0' : 0.3, 'omega_lambda_0' : 0.7, 'omega_k_0' : 0.0, 'h' : 0.72}\n",
    "\n",
    "redshift = table['Z_MUSE']\n",
    "#Converting size in arcsec\n",
    "size    = table['Corrected_radius']*0.03\n",
    "\n",
    "fluxOII = table['OII_3726_FLUX'] + table['OII_3729_FLUX']\n",
    "errflux = table['OII_3726_FLUX_ERR'] + table['OII_3729_FLUX_ERR']\n",
    "\n",
    "m       = np.logical_and(maskToRemoveVal([fluxOII, errflux, size], astroTableMask=True),\n",
    "                         maskToRemoveVal([fluxOII, errflux, size]))\n",
    "\n",
    "size, fluxOII, errflux, redshift = applyMask([size, fluxOII, errflux, redshift], m)\n",
    "findWhereIsValue([fluxOII, errflux, size])\n",
    "\n",
    "SNR     = fluxOII/errflux\n",
    "\n",
    "#Transforming from arcsec to radians\n",
    "size /= 3600 #arcsec to degrees\n",
    "size *= np.pi/180.0 #degrees to radians\n",
    "\n",
    "#Transforming angular size in comsological transverse size\n",
    "size *= comoving_distance_transverse(redshift, **cosmo)\n",
    "size *= 1.0e3 #Mpc to kpc"
   ]
  },
  {
   "cell_type": "code",
   "execution_count": null,
   "metadata": {},
   "outputs": [],
   "source": [
    "plt.rcParams[\"figure.figsize\"] = (12, 12) # (w, h)\n",
    "f = plt.figure()\n",
    "plt.subplots_adjust(wspace=0.45, hspace=0.05)\n",
    "\n",
    "lsize =  np.log10(size)\n",
    "\n",
    "SNRLineX = [np.min(lsize), np.max(lsize)]\n",
    "SNRLineY = [10, 10]\n",
    "\n",
    "asManyPlots(111, [lsize, SNRLineX, lszLineX], [SNR, SNRLineY, lszLineY], \n",
    "            ylabel=r'$\\rm{SNR}$', xlabel=r'$\\log_{10}(R_{1/2} / \\rm{kpc})$',\n",
    "            plotFlag=[False, True, True], color=[redshift, 'k', 'k'], zorder=[0,1,2],\n",
    "            marker=['o', 'None', 'None'], linestyle=['None', 'dashed', 'dashed'],\n",
    "            cmap='gist_heat', showColorbar=True, colorbarLabel=r'$\\rm{redshift \\,\\, z}$',\n",
    "            outputName='Plots/Selection_plots/SNR_vs_R_halfLight_kpc.pdf', overwrite=False,\n",
    "            xlim=[np.min(lsize)-0.01, np.max(lsize)+0.01],\n",
    "            ylim=[np.min(SNR)-1, np.max(SNR)+1])"
   ]
  },
  {
   "cell_type": "markdown",
   "metadata": {},
   "source": [
    "## 1.4 Redshift histograms"
   ]
  },
  {
   "cell_type": "markdown",
   "metadata": {},
   "source": [
    "### 1.4.1 Getting data and Computing SNR"
   ]
  },
  {
   "cell_type": "code",
   "execution_count": 4,
   "metadata": {},
   "outputs": [
    {
     "name": "stdout",
     "output_type": "stream",
     "text": [
      "No nan was found in array number 0\n",
      "No nan was found in array number 1\n",
      "No nan was found in array number 2\n"
     ]
    }
   ],
   "source": [
    "redshift = table['Z_MUSE']\n",
    "\n",
    "#Converting size in arcsec\n",
    "size    = table['Corrected_radius']*0.03\n",
    "\n",
    "fluxOII = table['OII_3726_FLUX'] + table['OII_3729_FLUX']\n",
    "errflux = table['OII_3726_FLUX_ERR'] + table['OII_3729_FLUX_ERR']\n",
    "\n",
    "m       = np.logical_and(maskToRemoveVal([fluxOII, errflux, size], astroTableMask=True),\n",
    "                         maskToRemoveVal([fluxOII, errflux, size]))\n",
    "\n",
    "size, fluxOII, errflux, redshift = applyMask([size, fluxOII, errflux, redshift], m)\n",
    "\n",
    "findWhereIsValue([fluxOII, errflux, size])\n",
    "\n",
    "SNR     = fluxOII/errflux"
   ]
  },
  {
   "cell_type": "markdown",
   "metadata": {},
   "source": [
    "### 1.4.2 Splitting data into gals we want and gals we do not want"
   ]
  },
  {
   "cell_type": "code",
   "execution_count": 5,
   "metadata": {},
   "outputs": [],
   "source": [
    "zFromGalsWeWant  = redshift[np.logical_and(SNR>10, size>=0.35)]\n",
    "zFromGalsNotWant = redshift[np.logical_or(SNR<=10, size<0.35)]"
   ]
  },
  {
   "cell_type": "markdown",
   "metadata": {},
   "source": [
    "### 1.4.3 Plotting histograms"
   ]
  },
  {
   "cell_type": "code",
   "execution_count": 6,
   "metadata": {},
   "outputs": [
    {
     "name": "stdout",
     "output_type": "stream",
     "text": [
      "0.10847545\n",
      "0.10847548\n",
      "0.10847545\n",
      "0.10847545\n",
      "0.10847545\n",
      "0.10847545\n",
      "0.10847545\n",
      "0.10847545\n",
      "0.10847545\n",
      "0.10847545\n",
      "0.10847545\n"
     ]
    },
    {
     "data": {
      "image/png": "[encoded data removed]",
      "text/plain": [
       "<Figure size 864x864 with 1 Axes>"
      ]
     },
     "metadata": {
      "needs_background": "light"
     },
     "output_type": "display_data"
    }
   ],
   "source": [
    "plt.rcParams[\"figure.figsize\"] = (12, 12) # (w, h)\n",
    "f = plt.figure()\n",
    "plt.subplots_adjust(wspace=0.45, hspace=0.05)\n",
    "\n",
    "\n",
    "[zFromGalsNotWant, zFromGalsWeWant]\n",
    "['black', 'red']\n",
    "['red', 'black']\n",
    "label=['not selected', 'selected']\n",
    "\n",
    "zTot = np.append(zFromGalsNotWant, zFromGalsWeWant)\n",
    "\n",
    "#Trying to have bins around 0.1 in width\n",
    "bins = int((np.max(zFromGalsWeWant)-np.min(zFromGalsWeWant))/0.1)\n",
    "ax, n, bns = asManyHists(111, [zFromGalsWeWant, zFromGalsNotWant, zTot], bins=bins,\n",
    "                        xlabel=r'$\\rm{redshift \\,\\, bins}$', ylabel=r'$\\rm{\\# \\,\\, galaxies}$',\n",
    "                        color=['green', 'blue', 'black'], histtype='stepfilled', align='left',\n",
    "                        label=['selected', 'not selected', 'total'], showLegend=True, alpha=0.9,\n",
    "                        outputName='Plots/Selection_plots/hist_redshift.pdf', overwrite=False)\n",
    "\n",
    "#Check bins are correct\n",
    "for i in range(len(bns)-1):\n",
    "    print(bns[i+1]-bns[i])"
   ]
  },
  {
   "cell_type": "markdown",
   "metadata": {},
   "source": [
    "## 1.5 SFR vs mass"
   ]
  },
  {
   "cell_type": "code",
   "execution_count": null,
   "metadata": {
    "scrolled": false,
    "slideshow": {
     "slide_type": "-"
    }
   },
   "outputs": [],
   "source": [
    "plt.rcParams[\"figure.figsize\"] = (16, 12) # (w, h)\n",
    "f = plt.figure()\n",
    "plt.subplots_adjust(wspace=0.45, hspace=0.05)\n",
    "\n",
    "#custom color map for gals with morpho\n",
    "newcmap, norm = from_levels_and_colors([0.5, 1.5, 2.5, 3.5], ['blue', 'green', 'red'])\n",
    "\n",
    "cmin = np.min([np.min(tableMatch['Z_MUSE']), np.min(galsWithoutMorpho['Z_MUSE'])])\n",
    "cmax = np.max([np.max(tableMatch['Z_MUSE']), np.max(galsWithoutMorpho['Z_MUSE'])])\n",
    "\n",
    "# ax1, tmp = asManyPlots(121, [tableMatch['lmass'], galsWithoutMorpho['lmass']], \n",
    "#                        [tableMatch['lsfr'], galsWithoutMorpho['lsfr']],\n",
    "#                        label=['With morpho', 'Without morpho'], showLegend=True,\n",
    "#                        xlabel=r'$\\log_{10} ( M/M_{\\odot})$', ylabel=r'$\\log_{10} (\\rm{SFR}/(M_{\\odot} \\rm{yr}^{-1}))$',\n",
    "#                        marker=['o', 'x'], zorder=[1, 2], \n",
    "#                        color=[tableMatch['Z_MUSE'], galsWithoutMorpho['Z_MUSE']], plotFlag=[False, False],\n",
    "#                        cmapMin=cmin, cmapMax=cmax,\n",
    "#                        cmap='plasma', title='Without z-correction')\n",
    "\n",
    "# xdata = [0.83*(tableMatch['lmass']-1.0)+1.74*np.log10(1.0+tableMatch['Z_MUSE']), \n",
    "#          0.83*(galsWithoutMorpho['lmass']-1.0)+1.74*np.log10(1.0+galsWithoutMorpho['Z_MUSE'])]\n",
    "ydata = [tableMatch['lsfr']-1.74*np.log10((1.0+tableMatch['Z_MUSE'])/1.55),\n",
    "         galsWithoutMorpho['lsfr']-1.74*np.log10((1.0+galsWithoutMorpho['Z_MUSE'])/1.55)]\n",
    "ax1, tmp = asManyPlots(111, [tableMatch['lmass'], galsWithoutMorpho['lmass']], \n",
    "                       ydata, \n",
    "                       ylabel=r'$\\log_{10} (\\rm{SFR}/(M_{\\odot} \\rm{yr}^{-1})) - 1.74 \\log_{10} \\left ( \\frac{1+z}{1+055} \\right )$',\n",
    "                       xlabel=r'$\\log_{10} ( M/M_{\\odot})$',\n",
    "                       marker=['o', 'x'], zorder=[1, 2], colorbarLabel=r'$\\rm{redshift \\,\\, z}$',\n",
    "                       cmapMin=cmin, cmapMax=cmax, showColorbar=True, plotFlag=[False, False],\n",
    "                       color=[tableMatch['Z_MUSE'], galsWithoutMorpho['Z_MUSE']],\n",
    "                       cmap='plasma', title='With z-correction', \n",
    "                       label=['With morpho', 'Without morpho'], showLegend=True)\n",
    "\n",
    "print(\"Data from matching catalog\\nWithout correction: scatter =\", np.std(tableMatch['lsfr']), \n",
    "      \"dex\\nWith correction: scatter =\", np.std(tableMatch['lsfr']-1.74*np.log10((1.0+tableMatch['Z_MUSE'])/1.55)),\n",
    "      \"dex\\n\\nData from MUSE catalog\\nWithout correction: scatter =\", np.std(galsWithoutMorpho['lsfr']),\n",
    "      \"dex\\nWith correction: scatter =\", np.std(galsWithoutMorpho['lsfr']-1.74*np.log10((1.0+galsWithoutMorpho['Z_MUSE'])/1.55)),\n",
    "      \"dex\")\n",
    "\n",
    "# plt.savefig('Plots/SFR_versus_mass.pdf')\n",
    "# plt.savefig('Plots/SFR_versus_mass_zCorrectedOnly.pdf')"
   ]
  },
  {
   "cell_type": "markdown",
   "metadata": {
    "toc-hr-collapsed": false
   },
   "source": [
    "# 2.BUILDING A TABLE OF FIELD GALS WITH CASSATA AND/OR ZURICH HALF-LIGHT RADIUS COUNTERPART AND ADDING A NEW COLUMN WHICH IS EITHER ZURICH RADIUS OR BIAS CORRECTED CASSATA RADIUS"
   ]
  },
  {
   "cell_type": "markdown",
   "metadata": {},
   "source": [
    "## Getting data"
   ]
  },
  {
   "cell_type": "code",
   "execution_count": null,
   "metadata": {},
   "outputs": [],
   "source": [
    "pathdata = \"outputs/\"\n",
    "data     = [\"matching_fieldGals_with_Cassata_and_Zurich_acc_1_arcsec.vot\", \n",
    "            \"matching_fieldGals_with_Cassata_acc_1_arcsec.vot\"]\n",
    "\n",
    "#Checking that file format is correct\n",
    "for name in data:\n",
    "    voTag = is_VOtable(pathdata+name)\n",
    "    if voTag:        \n",
    "        fullFileName = pathdata + name\n",
    "        #Retrieving the data\n",
    "        table = parse(fullFileName)\n",
    "        full  = table.get_first_table()\n",
    "        \n",
    "        print(\"Size of\", name, \"is\", full.array.shape[0], \"\\n\")\n",
    "    else:\n",
    "        exit(\"Exiting\")"
   ]
  },
  {
   "cell_type": "code",
   "execution_count": null,
   "metadata": {},
   "outputs": [],
   "source": [
    "matchWithCassata       = parse(pathdata+data[1]).get_first_table().array\n",
    "matchWithZurichCassata = parse(pathdata+data[0]).get_first_table().array\n",
    "\n",
    "#Checking that the matching procedure did not duplicate galaxies\n",
    "checkDupplicates([matchWithZurichCassata, matchWithCassata], \n",
    "                 names=[\"matching_fieldGals_with_Cassata_and_Zurich_acc_1_arcsec.vot\", \n",
    "                        \"matching_fieldGals_with_Cassata_acc_1_arcsec.vot\"])"
   ]
  },
  {
   "cell_type": "code",
   "execution_count": null,
   "metadata": {},
   "outputs": [],
   "source": [
    "#Converting to an astropy table for simplicity\n",
    "tableMatchBoth = Table(matchWithZurichCassata)        \n",
    "tableMatchCass = Table(matchWithCassata)\n",
    "\n",
    "#Checking that the maximum angular separation is less than 1 arcsec in the matching tables\n",
    "printSimpleStat([tableMatchBoth['Separation_ZURICH'], tableMatchCass['Separation_CASSATA']])\n",
    "\n",
    "#Remove galaxies which have wrong ID_Laigle_16 values (9999)\n",
    "tableMatchBoth = tableMatchBoth[tableMatchBoth['ID_Laigle_16'] != 9999]\n",
    "tableMatchCass = tableMatchCass[tableMatchCass['ID_Laigle_16'] != 9999]\n",
    "\n",
    "findWhereIsValue([tableMatchCass['ID_Laigle_16'], tableMatchBoth['ID_Laigle_16']], 9999)\n",
    "\n",
    "#Remove the galaxy counted twice in the arrays\n",
    "uniqueArr([tableMatchBoth, tableMatchCass], [tableMatchBoth['ID_Laigle_16'], tableMatchCass['ID_Laigle_16']])\n",
    "\n",
    "print(\"\\nNumber of galaxies in matching catalog with Cassata:\", np.shape(tableMatchCass)[0], \n",
    "      \"\\nNumber of galaxies in matching catalog with Cassata & Zurich:\", np.shape(tableMatchBoth)[0])"
   ]
  },
  {
   "cell_type": "code",
   "execution_count": null,
   "metadata": {},
   "outputs": [],
   "source": [
    "#Get a subtable with galaxies having Cassata radius only\n",
    "mask            = np.in1d(tableMatchCass['ID_Laigle_16'], tableMatchBoth['ID_Laigle_16'], \n",
    "                        assume_unique=True, invert=True)\n",
    "tableCassOnly   = tableMatchCass[mask]\n",
    "\n",
    "#Keep list of fields which appear in Cassata+Zurich matching catalog but not in Cassata matching catalog\n",
    "m               = np.in1d(tableMatchBoth.dtype.names, tableCassOnly.dtype.names, assume_unique=True, invert=True)\n",
    "listFieldsToAdd = np.asarray(tableMatchBoth.dtype.names)[m]\n",
    "\n",
    "#Adding Zurich columns (default value=-999) to the Table with galaxies in Cassata catalog only\n",
    "sz = np.shape(tableCassOnly)[0]\n",
    "for field in listFieldsToAdd:\n",
    "    tableCassOnly[field] = np.array([-9999]*sz, dtype=tableMatchBoth.dtype[field])\n",
    "\n",
    "#Correcting biais in Cassata radius\n",
    "offset         = -3.495e-1\n",
    "A              = 1.95e-3\n",
    "R_half_CASSATA = tableCassOnly['R_HALF_CASSATA']/(1+offset+A*tableCassOnly['R_HALF_CASSATA'])\n",
    "\n",
    "#Creating new column in both tables\n",
    "newField                 = 'Corrected_radius'\n",
    "tableMatchBoth[newField] = tableMatchBoth['R50_ZURICH']\n",
    "tableCassOnly[newField]  = R_half_CASSATA"
   ]
  },
  {
   "cell_type": "markdown",
   "metadata": {},
   "source": [
    "## Concatenating tables"
   ]
  },
  {
   "cell_type": "code",
   "execution_count": null,
   "metadata": {},
   "outputs": [],
   "source": [
    "newTable = vstack([tableMatchBoth, tableCassOnly], join_type='exact')"
   ]
  },
  {
   "cell_type": "markdown",
   "metadata": {},
   "source": [
    "## Writing the full table in a new file"
   ]
  },
  {
   "cell_type": "code",
   "execution_count": null,
   "metadata": {},
   "outputs": [],
   "source": [
    "path       = 'outputs/'\n",
    "outputFile = 'matching_fieldGals_Cassata_and_Zurich_corrected_radius.vot'\n",
    "# write_array_to_vot(newTable, path+outputFile, isTable=True)"
   ]
  }
 ],
 "metadata": {
  "kernelspec": {
   "display_name": "Python 3",
   "language": "python",
   "name": "python3"
  },
  "language_info": {
   "codemirror_mode": {
    "name": "ipython",
    "version": 3
   },
   "file_extension": ".py",
   "mimetype": "text/x-python",
   "name": "python",
   "nbconvert_exporter": "python",
   "pygments_lexer": "ipython3",
   "version": "3.7.1"
  }
 },
 "nbformat": 4,
 "nbformat_minor": 2
}
