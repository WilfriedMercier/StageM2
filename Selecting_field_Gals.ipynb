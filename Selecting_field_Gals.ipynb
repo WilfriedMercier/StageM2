{
 "cells": [
  {
   "cell_type": "code",
   "execution_count": 1,
   "metadata": {},
   "outputs": [],
   "source": [
    "### DATA TREATMENT SECTION ###\n",
    "\n",
    "from sys import exit\n",
    "import importlib\n",
    "\n",
    "from astropy.io.votable import is_votable, parse\n",
    "from astropy.table import Table\n",
    "from astropy.coordinates import SkyCoord\n",
    "from astropy import units as u\n",
    "import numpy as np\n",
    "\n",
    "import matplotlib.pyplot as plt\n",
    "from matplotlib.colors import from_levels_and_colors\n",
    "from matplotlib.markers import MarkerStyle\n",
    "\n",
    "from stage2 import *"
   ]
  },
  {
   "cell_type": "code",
   "execution_count": 2,
   "metadata": {},
   "outputs": [
    {
     "name": "stdout",
     "output_type": "stream",
     "text": [
      "The file outputs/matching_fieldGals_with_Zurich_acc_1_arcsec.vot is a VOtable, right ? True\n"
     ]
    },
    {
     "name": "stderr",
     "output_type": "stream",
     "text": [
      "WARNING: W03: outputs/matching_fieldGals_with_Zurich_acc_1_arcsec.vot:10:0: W03: Implicitly generating an ID from a name 'Match type' -> 'Match_type' [astropy.io.votable.xmlutil]\n",
      "WARNING: W03: outputs/matching_fieldGals_with_Zurich_acc_1_arcsec.vot:13:0: W03: Implicitly generating an ID from a name 'Match algorithm' -> 'Match_algorithm' [astropy.io.votable.xmlutil]\n",
      "WARNING: W03: outputs/matching_fieldGals_with_Zurich_acc_1_arcsec.vot:16:0: W03: Implicitly generating an ID from a name 'Join Type' -> 'Join_Type' [astropy.io.votable.xmlutil]\n",
      "WARNING: W03: outputs/matching_fieldGals_with_Zurich_acc_1_arcsec.vot:19:0: W03: Implicitly generating an ID from a name 'First input table' -> 'First_input_table' [astropy.io.votable.xmlutil]\n",
      "WARNING: W03: outputs/matching_fieldGals_with_Zurich_acc_1_arcsec.vot:20:0: W03: Implicitly generating an ID from a name 'Second input table' -> 'Second_input_table' [astropy.io.votable.xmlutil]\n",
      "WARNING: W50: outputs/matching_fieldGals_with_Zurich_acc_1_arcsec.vot:970:0: W50: Invalid unit string 'TILE' [astropy.io.votable.tree]\n"
     ]
    },
    {
     "name": "stdout",
     "output_type": "stream",
     "text": [
      "Size of matching_fieldGals_with_Zurich_acc_1_arcsec.vot is 190 \n",
      "\n",
      "The file outputs/master_field_galaxiesV2.vot is a VOtable, right ? True\n",
      "Size of master_field_galaxiesV2.vot is 545 \n",
      "\n"
     ]
    }
   ],
   "source": [
    "pathdata = \"outputs/\"\n",
    "data     = [\"matching_fieldGals_with_Zurich_acc_1_arcsec.vot\", \"master_field_galaxiesV2.vot\"]\n",
    "\n",
    "#Checking that file format is correct\n",
    "for name in data:\n",
    "    voTag = is_VOtable(pathdata+name)\n",
    "    if voTag:        \n",
    "        fullFileName = pathdata + name\n",
    "        #Retrieving the data\n",
    "        table = parse(fullFileName)\n",
    "        full  = table.get_first_table()\n",
    "        \n",
    "        print(\"Size of\", name, \"is\", full.array.shape[0], \"\\n\")\n",
    "    else:\n",
    "        exit(\"Exiting\")"
   ]
  },
  {
   "cell_type": "code",
   "execution_count": 3,
   "metadata": {},
   "outputs": [
    {
     "name": "stdout",
     "output_type": "stream",
     "text": [
      "['matching_fieldGals_with_Zurich_acc_1_arcsec.vot', 'master_field_galaxiesV2.vot']\n",
      "All the galaxies are only listed once in the catalog matching_fieldGals_with_Zurich_acc_1_arcsec.vot\n",
      "RA = 150.053047 deg and DEC = 2.604346 deg galaxy (line 6) is present more than once in catalog master_field_galaxiesV2.vot\n",
      "RA = 150.053047 deg and DEC = 2.604346 deg galaxy (line 70) is present more than once in catalog master_field_galaxiesV2.vot\n",
      "Maximum separation is 0.8778970454248154 arcsec.\n",
      "Mean separation is 0.10395451693170249 arcsec.\n",
      "Median separation is 0.06814922333003948 arcsec.\n",
      "1st quantile is 0.04285471659041162 arcsec.\n",
      "3rd quantile is 0.12246327531669089 arcsec.\n",
      "\n",
      "No value 9999 found within array number 0\n",
      "No value 9999 found within array number 1\n",
      "\n",
      "Number of galaxies in matching catalog: 184 \n",
      "Number of galaxies in field catalog: 489\n",
      "Number of gals without morpho: 305 \n",
      "Number of gals with morpho + number without = initial total number ? True\n"
     ]
    }
   ],
   "source": [
    "#Getting data\n",
    "matchWithZurich = parse(pathdata+data[0]).get_first_table().array\n",
    "fieldGals       = parse(pathdata+data[1]).get_first_table().array\n",
    "\n",
    "#Checking that the matching procedure did not duplicate galaxies\n",
    "checkDupplicates([matchWithZurich, fieldGals], names=[\"matching_fieldGals_with_Zurich_acc_1_arcsec.vot\", \"master_field_galaxiesV2.vot\"])\n",
    "\n",
    "#Converting to an astropy table for simplicity\n",
    "tableMatch = Table(matchWithZurich)        \n",
    "tableField = Table(fieldGals)\n",
    "\n",
    "#Checking that the maximum angular separation is less than 1 arcsec in the matching tableMatch\n",
    "print(\"Maximum separation is\", str((Table(matchWithZurich)['Separation']*u.arcsec).max()) + \".\")\n",
    "print(\"Mean separation is\", str(np.mean(Table(matchWithZurich)['Separation']*u.arcsec)) + \".\")\n",
    "print(\"Median separation is\", str(np.median(Table(matchWithZurich)['Separation']*u.arcsec)) + \".\")\n",
    "print(\"1st quantile is\", str(np.quantile(Table(matchWithZurich)['Separation'], 0.25)*u.arcsec) + \".\")\n",
    "print(\"3rd quantile is\", str(np.quantile(Table(matchWithZurich)['Separation'], 0.75)*u.arcsec) + \".\\n\")\n",
    "\n",
    "#Remove galaxies which have wrong ID_Laigle_16 values (9999)\n",
    "tableMatch = tableMatch[tableMatch['ID_Laigle_16'] != 9999]\n",
    "tableField = tableField[tableField['ID_Laigle_16'] != 9999]\n",
    "\n",
    "findWhereIsValue([tableMatch['ID_Laigle_16'], tableField['ID_Laigle_16']], 9999)\n",
    "\n",
    "#Remove the galaxy counted twice in the array\n",
    "arr, indices = np.unique(tableField['ID_Laigle_16'], return_index=True)\n",
    "tableField   = tableField[indices]\n",
    "\n",
    "print(\"\\nNumber of galaxies in matching catalog:\", np.shape(tableMatch)[0], \n",
    "      \"\\nNumber of galaxies in field catalog:\", np.shape(tableField)[0])\n",
    "\n",
    "#Split between galaxies with morphological data and without\n",
    "mask              = np.in1d(tableField['ID_Laigle_16'], tableMatch['ID_Laigle_16'], assume_unique=True, invert=True)\n",
    "galsWithoutMorpho = tableField[mask]\n",
    "\n",
    "#Checking we have the right amount of galaxies\n",
    "print(\"Number of gals without morpho:\", np.shape(galsWithoutMorpho)[0],\n",
    "      \"\\nNumber of gals with morpho + number without = initial total number ?\", \n",
    "      np.shape(tableField)[0]==(np.shape(galsWithoutMorpho)[0]+np.shape(tableMatch)[0]))"
   ]
  },
  {
   "cell_type": "code",
   "execution_count": 5,
   "metadata": {
    "scrolled": true
   },
   "outputs": [
    {
     "name": "stdout",
     "output_type": "stream",
     "text": [
      "No nan was found in array number 0\n",
      "No nan was found in array number 1\n"
     ]
    }
   ],
   "source": [
    "#Remove nan values\n",
    "m                 = maskToRemoveVal([galsWithoutMorpho['lsfr']], astroTableMask=True)\n",
    "galsWithoutMorpho = applyMask([galsWithoutMorpho], m)\n",
    "\n",
    "m                 = maskToRemoveVal([tableMatch['lsfr']], astroTableMask=True)\n",
    "tableMatch        = applyMask([tableMatch], m)\n",
    "\n",
    "findWhereIsValue([galsWithoutMorpho['lsfr'], tableMatch['lsfr']])"
   ]
  },
  {
   "cell_type": "code",
   "execution_count": null,
   "metadata": {},
   "outputs": [],
   "source": []
  }
 ],
 "metadata": {
  "kernelspec": {
   "display_name": "Python 3",
   "language": "python",
   "name": "python3"
  },
  "language_info": {
   "codemirror_mode": {
    "name": "ipython",
    "version": 3
   },
   "file_extension": ".py",
   "mimetype": "text/x-python",
   "name": "python",
   "nbconvert_exporter": "python",
   "pygments_lexer": "ipython3",
   "version": "3.7.1"
  }
 },
 "nbformat": 4,
 "nbformat_minor": 2
}
