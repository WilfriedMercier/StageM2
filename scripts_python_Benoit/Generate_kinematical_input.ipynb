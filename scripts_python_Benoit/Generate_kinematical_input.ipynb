{
 "cells": [
  {
   "cell_type": "markdown",
   "metadata": {},
   "source": [
    "# Import section"
   ]
  },
  {
   "cell_type": "code",
   "execution_count": 1,
   "metadata": {},
   "outputs": [],
   "source": [
    "from stage2 import *\n",
    "import numpy as np\n",
    "from astropy.io.votable import parse"
   ]
  },
  {
   "cell_type": "markdown",
   "metadata": {},
   "source": [
    "# Getting list of galaxies"
   ]
  },
  {
   "cell_type": "code",
   "execution_count": 2,
   "metadata": {},
   "outputs": [
    {
     "name": "stdout",
     "output_type": "stream",
     "text": [
      "Same size ? True\n",
      "Same size ? True\n"
     ]
    }
   ],
   "source": [
    "#input file\n",
    "galsLocation = \"SelectedGals_outputFolders\"\n",
    "galsZfile    = \"SelectedGals\"\n",
    "galsLSFfile  = \"SelectedGals_clean_o2\"\n",
    "\n",
    "#get gals location\n",
    "listGals     = np.genfromtxt(galsLocation, dtype=\"str\")\n",
    "\n",
    "#keep folders whereto the input file will be written\n",
    "galsFolders  = [gal.split(\"o2\")[0] for gal in listGals]\n",
    "#keep gal name for the input file\n",
    "galNames     = [gal.split(\"o2/\")[1] for gal in listGals]\n",
    "\n",
    "#get gals redshift\n",
    "galsZ        = np.genfromtxt(galsZfile, dtype='float', usecols=1)\n",
    "print(\"Same size ?\", len(galsZ)==len(galNames))\n",
    "\n",
    "#get gals lsf FWHM (in km/s)\n",
    "galsLSF      = np.genfromtxt(galsLSFfile, dtype='float', usecols=1)\n",
    "print(\"Same size ?\", len(galsLSF)==len(galNames))"
   ]
  },
  {
   "cell_type": "markdown",
   "metadata": {},
   "source": [
    "# Recover PA (for some galaxies) and b/a values from the .vot file"
   ]
  },
  {
   "cell_type": "markdown",
   "metadata": {},
   "source": [
    "## Get full data from the .vot file"
   ]
  },
  {
   "cell_type": "code",
   "execution_count": 3,
   "metadata": {},
   "outputs": [
    {
     "name": "stdout",
     "output_type": "stream",
     "text": [
      "The file ../outputs/selected_field_gals.vot is a VOtable, right ? True\n",
      "[84.1, 84.1, 84.1, 84.0, 84.0, 84.0, 84.0, 34.0, 34.0, 34.0, 34.0, 34.0, 34.0, 34.0, 34.0, 34.0, 34.0, 34.0, 34.0, 34.0, 34.0, 34.0, 34.0, 79.0, 79.0, 79.0, 79.0, 79.0, 79.0, 79.0, 32.0, 32.0, 32.0, 32.0, 32.0, 32.0, 32.0, 32.0, 32.0, 32.0, 114.0, 114.0, 114.0, 114.0, 23.0, 23.0, 23.0, 23.0, 23.0, 23.0, 23.0, 26.0, 26.0, 26.0, 26.0, 26.0, 26.0, 26.0, 26.0, 26.0, 28.0, 28.0, 28.0, 28.0, 28.0, 28.0, 28.0, 51.0, 51.0, 61.0, 61.0, 61.0, 61.0, 61.0, 61.0, 61.0, 61.0, 30.0, 30.0, 30.0, 30.0, 30.0, 30.0, 30.0, 30.0, 30.0, 30.0, 30.0, 30.0, 30.0, 30.0, 30.0, 30.0, 30.0, 30.0, 84.1, 84.0, 34.0, 34.0, 79.0, 32.0, 32.0, 32.0, 114.0, 23.0, 28.0, 51.0, 51.0, 51.0, 61.0, 30.0, 30.0, 30.0, 30.0]\n"
     ]
    }
   ],
   "source": [
    "votFile = \"../outputs/selected_field_gals.vot\"\n",
    "\n",
    "#checking that it is a vot file and retrieve data\n",
    "if is_VOtable(votFile):\n",
    "    full = parse(votFile).get_first_table().array\n",
    "    \n",
    "#Get gals number\n",
    "galsNum = [int(num.split('_')[-2]) for num in listGals]\n",
    "\n",
    "#Get gals group and convert it into the same format as that in the .vot catalogue\n",
    "groupList = [name.split('MUSE/')[1].split('/o2')[0].split('_s')[0].split('CGr')[1] for name in listGals]\n",
    "for pos, gr in enumerate(groupList):\n",
    "    if gr == \"84-N\":\n",
    "        groupList[pos] = 84.1\n",
    "    elif gr in (\"84_d\", \"34_d\", \"79_d\", \"30_d\", \"84_bs\", \"34_bs\", \"79_bs\", \"30_bs\"):\n",
    "        groupList[pos] = float(gr.split(\"_\")[0])\n",
    "    elif gr in ('32-M1_d', '32-M2_d', '32-M3_d'):\n",
    "        groupList[pos] = 32.0\n",
    "    else:\n",
    "        groupList[pos] = float(gr)\n",
    "\n",
    "print(groupList)"
   ]
  },
  {
   "cell_type": "markdown",
   "metadata": {},
   "source": [
    "## Gals in CGr84 have the wrong MUSE Id in their folder name so we need to associate them with the correct one using another file"
   ]
  },
  {
   "cell_type": "code",
   "execution_count": 4,
   "metadata": {},
   "outputs": [
    {
     "name": "stdout",
     "output_type": "stream",
     "text": [
      "The file ../data/catalogues/CGR84-83_FD+North_zcatalog_withLaigle+16_withFAST_withnewPLATEFIT_totalflux_withnewz_jan19_withFOF_withGALFIT_withGALKIN_jan19.vot is a VOtable, right ? True\n",
      "[ True  True  True False False False False  True  True  True  True  True\n",
      "  True  True  True  True  True  True  True  True  True  True  True  True\n",
      "  True  True  True  True  True  True  True  True  True  True  True  True\n",
      "  True  True  True  True  True  True  True  True  True  True  True  True\n",
      "  True  True  True  True  True  True  True  True  True  True  True  True\n",
      "  True  True  True  True  True  True  True  True  True  True  True  True\n",
      "  True  True  True  True  True  True  True  True  True  True  True  True\n",
      "  True  True  True  True  True  True  True  True  True  True  True  True\n",
      " False  True  True  True  True  True  True  True  True  True  True  True\n",
      "  True  True  True  True  True  True]\n"
     ]
    }
   ],
   "source": [
    "matchingFile = '../data/catalogues/CGR84-83_FD+North_zcatalog_withLaigle+16_withFAST_withnewPLATEFIT_totalflux_withnewz_jan19_withFOF_withGALFIT_withGALKIN_jan19.vot'\n",
    "if is_VOtable(matchingFile):\n",
    "    tmpCOSMOSID   = parse(matchingFile).get_first_table().array['COSMOS_Group_Number']\n",
    "    m             = tmpCOSMOSID==84.0\n",
    "    #the corresponding MUSE id in the .vot file with the morphological information\n",
    "    CatalogMUSEID = parse(matchingFile).get_first_table().array['ID'][m]\n",
    "    #the MUSE id found in the folders\n",
    "    FolderMUSEID  = parse(matchingFile).get_first_table().array['ID_in_MUSE_Field'][m]\n",
    "else:\n",
    "    raise Exception(\"The file\", matchingFile, \"could not be found\")\n",
    "\n",
    "newGalsNums = galsNum[:]\n",
    "for pos in np.where(np.asarray(groupList)==84.0)[0]:\n",
    "    newGalsNums[pos] = CatalogMUSEID[FolderMUSEID==galsNum[pos]][0]\n",
    "print(np.asarray(newGalsNums) == np.asarray(galsNum))"
   ]
  },
  {
   "cell_type": "markdown",
   "metadata": {},
   "source": [
    "## Recover PA and inclination"
   ]
  },
  {
   "cell_type": "code",
   "execution_count": 5,
   "metadata": {},
   "outputs": [],
   "source": [
    "#complete morphological info from the catalogue\n",
    "fullPA    = full['PA_GIM2D_ZURICH']\n",
    "fullb_a   = full['Axial_Ratio_CASSATA']\n",
    "fullGrNb  = full['COSMOS_Group_Number']\n",
    "fullGalNb = full['ID']\n",
    "\n",
    "#we find the PA and the inclination for the desired galaxies by matching their group and galaxy numbers\n",
    "PAlist    = []\n",
    "incList   = []\n",
    "for gal, gr in zip(newGalsNums, groupList):\n",
    "    \n",
    "    #we get the position in the full array where the galaxy lies\n",
    "    pos = np.where(np.logical_and(fullGrNb == gr, fullGalNb == gal))[0]\n",
    "    #we get the corresponding PA\n",
    "    tmp = fullPA[pos]\n",
    "    \n",
    "    #if the value is masked, i.e. missing, we put by default 60 degrees\n",
    "    if tmp.mask[0] :\n",
    "        tmp = 60.0\n",
    "    else:\n",
    "        tmp = tmp[0]\n",
    "        \n",
    "    #if the value is -9999.0 (galaxy found in Cassata catalogue but not in Zurich), we put by default 60 degrees\n",
    "    if tmp == -9999.0:\n",
    "        tmp = 60.0\n",
    "    \n",
    "    #changing PA definition from [0, 180]° to [-90, +90]°\n",
    "    PAlist.append(tmp-90)\n",
    "    \n",
    "    #we get the corresponding b/a, compute the inclination (between 0° and 90°) from it and add it to the list\n",
    "    tmp = fullb_a[pos][0]\n",
    "    incList.append(np.arccos(tmp)*180/np.pi)\n",
    "    \n",
    "PAlist  = np.asarray(PAlist)\n",
    "incList = np.asarray(incList)"
   ]
  },
  {
   "cell_type": "markdown",
   "metadata": {},
   "source": [
    "# Creating a general class to gather group information into one object"
   ]
  },
  {
   "cell_type": "code",
   "execution_count": 31,
   "metadata": {},
   "outputs": [],
   "source": [
    "class groupStructure:\n",
    "    \n",
    "    def __init__(self, groupName, listGals, redshifts, lsf, wavelengthOfObservation=3729, PA=0, inclination=-30):\n",
    "        '''\n",
    "        Intialisation of the group structure\n",
    "        \n",
    "        Mandatory inputs\n",
    "        ----------------\n",
    "        groupName : string\n",
    "            the name of the group\n",
    "        listGals : list of strings\n",
    "            the path to the gals folders\n",
    "        lsf : list of floats\n",
    "            the line spread function FWHM of the galaxies in km/s    \n",
    "        redshifts : list of floats\n",
    "            the redshifts of the galaxies\n",
    "            \n",
    "        Optional inputs\n",
    "        ---------------\n",
    "        inclination : list of floats\n",
    "            the inclination of the galaxies on the sky (between 0° and +90°)\n",
    "        PA : list of integers/floats\n",
    "            the position angle of the galaxies (between -90° and +90°)\n",
    "        wavelengthOfObservation : list of integers/floats\n",
    "            the wavelength at which we observed the galaxies (default is OII, must be given in Angstroms)\n",
    "        '''\n",
    "\n",
    "        #galaxies folders and names\n",
    "        self.__ln        = len(listGals)\n",
    "        self.group       = groupName\n",
    "        self.galsNames   = [gal.split(\"o2/\")[1] for gal in listGals]\n",
    "        self.galsFolder  = listGals[0].split(\"o2\")[0]\n",
    "        \n",
    "        #centre positions\n",
    "        self.XcenPos     = [15.0]*self.__ln\n",
    "        self.YcenPos     = [15.0]*self.__ln\n",
    "        \n",
    "        #redshift\n",
    "        self.z           = [z for z in redshifts]\n",
    "        \n",
    "        #lsf FWHM\n",
    "        self.lsf         = [l for l in lsf]\n",
    "        \n",
    "        #define default wavelength of observation for this group (OII at the group redshift in Angstrom)\n",
    "        try:\n",
    "            len(wavelengthOfObservation)\n",
    "        except TypeError:\n",
    "            wavelengthOfObservation = [wavelengthOfObservation]*self.__ln\n",
    "        self.wv          = wavelengthOfObservation\n",
    "        self.wv          = [wv*(1+z) for wv, z in zip(self.wv, self.z)]\n",
    "        \n",
    "        #generate PSF FWHM for each galaxy\n",
    "        self.psf         = computeGroupFWHM(self.wv, [self.group]*self.__ln, verbose=False)\n",
    "        \n",
    "        #set default PA\n",
    "        try:\n",
    "            len(PA)\n",
    "        except TypeError:\n",
    "            PA  = [PA]*self.__ln\n",
    "        self.PA = [pa for pa in PA]\n",
    "        \n",
    "        #set default inclination\n",
    "        try:\n",
    "            len(inclination)\n",
    "        except TypeError:\n",
    "            inclination  = [inclination]*self.__ln\n",
    "        self.inclination = [i for i in inclination]\n",
    "        \n",
    "    def updateCenPos(self, Xpos, Ypos):\n",
    "        '''\n",
    "        Update galaxies centre X and Y position (in pixels in the MUSE image)\n",
    "        \n",
    "        Input\n",
    "        -----\n",
    "        Xpos : list of floats\n",
    "            the X position of the galaxies centres\n",
    "        Ypos : list of floats\n",
    "            the Y position of the galaxies centres\n",
    "        '''\n",
    "        \n",
    "        if not ( (len(XPos) == len(Ypos)) == self.__ln ):\n",
    "            raise Exception(\"Given X and Y positions have length %d but data has length %d\" %(len(XPos), self.__ln))\n",
    "        self.XcenPos = [i for i in Xpos]\n",
    "        self.YcenPos = [i for i in Ypos]\n",
    "        \n",
    "    def updatePSF(self, wavelength, verbose=False):\n",
    "        '''\n",
    "        Update the PSF for each galaxy using the given wavelength of observation (not rest-frame)\n",
    "        \n",
    "        Input\n",
    "        -----\n",
    "        verbose : boolean\n",
    "            whether to print the computed value on screen or not\n",
    "        wavelength : list of integers\n",
    "            the wavelength of observation equals to (1+z) times the rest-frame wavelength\n",
    "        '''\n",
    "        \n",
    "        if len(wavelength) != self.__ln:\n",
    "            raise Exception(\"Given wavelength list has length %d but data has length %d\" %(len(wavelength), self.__ln))\n",
    "        self.psf = computeGroupFWHM(wavelength, [self.group]*self.__ln, verbose=verbose)\n",
    "        \n",
    "    def updatePA(self, PA):\n",
    "        '''\n",
    "        Update the PA of the galaxies\n",
    "        \n",
    "        Input\n",
    "        -----\n",
    "        PA : list of inetgers/floats\n",
    "            the PA of the galaxies between -90° and +90°\n",
    "        '''\n",
    "        if len(PA) != self.__ln:\n",
    "            raise Exception(\"Given PA list has length %d but data has length %d\" %(len(PA), self.__ln))\n",
    "        self.PA = PA\n",
    "    \n",
    "    def updateInclination(self, inclination):\n",
    "        '''\n",
    "         Update the inclination of the galaxies\n",
    "        \n",
    "        Input\n",
    "        -----\n",
    "        inclination : list of floats\n",
    "            the inclination of the galaxies (between the line of sight and the normal of the galactic plane) between 0° and 90°\n",
    "        '''\n",
    "        if len(inclination) != self.__ln:\n",
    "            raise Exception(\"Given inclination list has length %d but data has length %d\" %(len(inclination), self.__ln))\n",
    "        self.inclination = inclination\n",
    "\n"
   ]
  },
  {
   "cell_type": "markdown",
   "metadata": {},
   "source": [
    "# Constructing the group objects"
   ]
  },
  {
   "cell_type": "code",
   "execution_count": 39,
   "metadata": {},
   "outputs": [],
   "source": [
    "def returnCorrectVals(someList, GrNames, THEname):\n",
    "    '''\n",
    "    Returns a list of values for some group by specifying its name\n",
    "    \n",
    "    Input\n",
    "    -----\n",
    "    GrNames : list of string\n",
    "        the group names corresponding to the galaxies\n",
    "    someList : list of data\n",
    "        a list with the same strcture as GrNames\n",
    "    THEname : string\n",
    "        the name of the group we want to keep the data\n",
    "    '''\n",
    "    \n",
    "    return someList[np.where(np.asarray(GrNames) == THEname)]\n",
    "\n",
    "#first we create a dict with the indices of galaxies belonging to each group\n",
    "names    = np.asarray([i.split(\"MUSE/\")[1].split(\"/o2\")[0].split(\"_s\")[0] for i in listGals])\n",
    "maskDict = {}\n",
    "for gr in names:\n",
    "    maskDict.update({gr : np.where(names==gr)})\n",
    "\n",
    "#then we create a dictionnary combining all the group objects\n",
    "GroupsDict = {}\n",
    "tmpNames   = [name.split('CGr')[1] for name in names]\n",
    "for pos, gr in enumerate(tmpNames):\n",
    "    if gr in (\"84_d\", \"79_d\", \"84_bs\", \"79_bs\"):\n",
    "        tmpNames[pos] = gr.split(\"_\")[0]\n",
    "    elif gr in ('32-M1_d', '32-M2_d', '32-M3_d'):\n",
    "        tmpNames[pos] = gr.split('_')[0]\n",
    "\n",
    "for gr, tmp in zip(names, tmpNames):\n",
    "    GroupsDict.update({gr : groupStructure(tmp, \n",
    "                                           listGals[maskDict[gr][0]],\n",
    "                                           galsZ[maskDict[gr][0]],\n",
    "                                           galsLSF[maskDict[gr][0]],\n",
    "                                           PA = PAlist[maskDict[gr][0]],\n",
    "                                           inclination = incList[maskDict[gr][0]])})"
   ]
  },
  {
   "cell_type": "code",
   "execution_count": 40,
   "metadata": {},
   "outputs": [
    {
     "data": {
      "text/plain": [
       "dict_keys(['CGr84-N', 'CGr84_d', 'CGr34_d', 'CGr34_bs', 'CGr79_d', 'CGr32-M3_d', 'CGr32-M2_d', 'CGr32-M1_d', 'CGr114', 'CGr23', 'CGr26', 'CGr28', 'CGr51', 'CGr61', 'CGr30_d', 'CGr30_bs'])"
      ]
     },
     "execution_count": 40,
     "metadata": {},
     "output_type": "execute_result"
    }
   ],
   "source": [
    "GroupsDict.keys()"
   ]
  },
  {
   "cell_type": "code",
   "execution_count": 42,
   "metadata": {},
   "outputs": [
    {
     "name": "stdout",
     "output_type": "stream",
     "text": [
      "84-N ../outputs/MUSE/CGr84-N_s/\n",
      "84 ../outputs/MUSE/CGr84_d/\n",
      "34_d ../outputs/MUSE/CGr34_d/\n",
      "34_bs ../outputs/MUSE/CGr34_bs/\n",
      "79 ../outputs/MUSE/CGr79_d/\n",
      "32-M3 ../outputs/MUSE/CGr32-M3_d/\n",
      "32-M2 ../outputs/MUSE/CGr32-M2_d/\n",
      "32-M1 ../outputs/MUSE/CGr32-M1_d/\n",
      "114 ../outputs/MUSE/CGr114_s/\n",
      "23 ../outputs/MUSE/CGr23_s/\n",
      "26 ../outputs/MUSE/CGr26_s/\n",
      "28 ../outputs/MUSE/CGr28_s/\n",
      "51 ../outputs/MUSE/CGr51_s/\n",
      "61 ../outputs/MUSE/CGr61_s/\n",
      "30_d ../outputs/MUSE/CGr30_d/\n",
      "30_bs ../outputs/MUSE/CGr30_bs/\n",
      "count: 114\n"
     ]
    }
   ],
   "source": [
    "cnt = 0\n",
    "for i in GroupsDict.values():\n",
    "    print(i.group, i.galsFolder) #, i.galsNames, i.PA)\n",
    "    cnt += len(i.PA)\n",
    "print(\"count:\", cnt)"
   ]
  },
  {
   "cell_type": "markdown",
   "metadata": {},
   "source": [
    "# Generating the input files"
   ]
  },
  {
   "cell_type": "code",
   "execution_count": 146,
   "metadata": {},
   "outputs": [],
   "source": [
    "for group in GroupsDict.values():\n",
    "    outputFolder = group.galsFolder\n",
    "    outputFile   = \"input_fit_o2.txt\"\n",
    "    #print(outputFolder+outputFile)\n",
    "    \n",
    "    #generate lists with default values we do not change\n",
    "    sz           = len(group.galsNames)\n",
    "    vs           = [0.0]*sz\n",
    "    vm           = [80]*sz\n",
    "    d            = [2.0]*sz\n",
    "    sig          = [0]*sz\n",
    "    smooth       = [2]*sz\n",
    "    \n",
    "    #generate header\n",
    "    hdr          = \"       ID        X        Y       PA      INC      vs     vm     d   sig  psfx   psfz  smooth\"\n",
    "    \n",
    "    psf          = [np.round(i[1], 3) for i in group.psf]\n",
    "    data         = [group.galsNames, np.round(group.XcenPos, 2), np.round(group.YcenPos, 2), \n",
    "                    np.round(group.PA, 1), [int(gr) for gr in group.inclination], \n",
    "                    vs, vm, d, sig, psf, np.round(group.lsf, 1), smooth]\n",
    "    \n",
    "    data = np.asarray(data).T\n",
    "    \n",
    "    np.savetxt(outputFolder+outputFile,\n",
    "               data,\n",
    "               header=hdr, comments=\"#\", delimiter=\"   \"\n",
    "               fmt=\"%s\", )"
   ]
  }
 ],
 "metadata": {
  "kernelspec": {
   "display_name": "Python 3",
   "language": "python",
   "name": "python3"
  },
  "language_info": {
   "codemirror_mode": {
    "name": "ipython",
    "version": 3
   },
   "file_extension": ".py",
   "mimetype": "text/x-python",
   "name": "python",
   "nbconvert_exporter": "python",
   "pygments_lexer": "ipython3",
   "version": "3.7.1"
  },
  "toc-autonumbering": true
 },
 "nbformat": 4,
 "nbformat_minor": 2
}
