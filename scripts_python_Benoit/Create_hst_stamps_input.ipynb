{
 "cells": [
  {
   "cell_type": "markdown",
   "metadata": {},
   "source": [
    "# Creating .txt input files to make the hst stamps for the plots"
   ]
  },
  {
   "cell_type": "markdown",
   "metadata": {},
   "source": [
    "## Import section"
   ]
  },
  {
   "cell_type": "code",
   "execution_count": 7,
   "metadata": {},
   "outputs": [],
   "source": [
    "from astropy.io.votable import is_votable, parse\n",
    "from stage2 import *\n",
    "\n",
    "from sys import exit\n",
    "\n",
    "import multiprocessing\n",
    "from multiprocessing import Manager"
   ]
  },
  {
   "cell_type": "markdown",
   "metadata": {},
   "source": [
    "## Defining filenames and paths"
   ]
  },
  {
   "cell_type": "code",
   "execution_count": 8,
   "metadata": {},
   "outputs": [],
   "source": [
    "pathdata  = \"../outputs/SelectedGals_sep_by_cluster/\"\n",
    "nameBegin = \"matching_fieldsGals_Cassata_and_Zurich_corrected_radius_\"\n",
    "listNumb  = [114, 23, 26, 28, 30, 32, 34, 51, 61, 79, 84, '84-N']\n",
    "CGrNames  = [i+str(j) for i, j in zip(['CGr']*12, listNumb)]\n",
    "fullNames = [pathdata + i + '/' + nameBegin + i + '.vot' for i in CGrNames]"
   ]
  },
  {
   "cell_type": "markdown",
   "metadata": {},
   "source": [
    "## Checking it is a VOtable"
   ]
  },
  {
   "cell_type": "code",
   "execution_count": 9,
   "metadata": {},
   "outputs": [
    {
     "name": "stdout",
     "output_type": "stream",
     "text": [
      "The file ../outputs/SelectedGals_sep_by_cluster/CGr114/matching_fieldsGals_Cassata_and_Zurich_corrected_radius_CGr114.vot is a VOtable, right ? True\n",
      "Size of ../outputs/SelectedGals_sep_by_cluster/CGr114/matching_fieldsGals_Cassata_and_Zurich_corrected_radius_CGr114.vot is 5 \n",
      "\n",
      "The file ../outputs/SelectedGals_sep_by_cluster/CGr23/matching_fieldsGals_Cassata_and_Zurich_corrected_radius_CGr23.vot is a VOtable, right ? True\n",
      "Size of ../outputs/SelectedGals_sep_by_cluster/CGr23/matching_fieldsGals_Cassata_and_Zurich_corrected_radius_CGr23.vot is 9 \n",
      "\n",
      "The file ../outputs/SelectedGals_sep_by_cluster/CGr26/matching_fieldsGals_Cassata_and_Zurich_corrected_radius_CGr26.vot is a VOtable, right ? True\n",
      "Size of ../outputs/SelectedGals_sep_by_cluster/CGr26/matching_fieldsGals_Cassata_and_Zurich_corrected_radius_CGr26.vot is 10 \n",
      "\n",
      "The file ../outputs/SelectedGals_sep_by_cluster/CGr28/matching_fieldsGals_Cassata_and_Zurich_corrected_radius_CGr28.vot is a VOtable, right ? True\n",
      "Size of ../outputs/SelectedGals_sep_by_cluster/CGr28/matching_fieldsGals_Cassata_and_Zurich_corrected_radius_CGr28.vot is 9 \n",
      "\n",
      "The file ../outputs/SelectedGals_sep_by_cluster/CGr30/matching_fieldsGals_Cassata_and_Zurich_corrected_radius_CGr30.vot is a VOtable, right ? True\n",
      "Size of ../outputs/SelectedGals_sep_by_cluster/CGr30/matching_fieldsGals_Cassata_and_Zurich_corrected_radius_CGr30.vot is 11 \n",
      "\n",
      "The file ../outputs/SelectedGals_sep_by_cluster/CGr32/matching_fieldsGals_Cassata_and_Zurich_corrected_radius_CGr32.vot is a VOtable, right ? True\n",
      "Size of ../outputs/SelectedGals_sep_by_cluster/CGr32/matching_fieldsGals_Cassata_and_Zurich_corrected_radius_CGr32.vot is 14 \n",
      "\n",
      "The file ../outputs/SelectedGals_sep_by_cluster/CGr34/matching_fieldsGals_Cassata_and_Zurich_corrected_radius_CGr34.vot is a VOtable, right ? True\n",
      "Size of ../outputs/SelectedGals_sep_by_cluster/CGr34/matching_fieldsGals_Cassata_and_Zurich_corrected_radius_CGr34.vot is 9 \n",
      "\n",
      "The file ../outputs/SelectedGals_sep_by_cluster/CGr51/matching_fieldsGals_Cassata_and_Zurich_corrected_radius_CGr51.vot is a VOtable, right ? True\n",
      "Size of ../outputs/SelectedGals_sep_by_cluster/CGr51/matching_fieldsGals_Cassata_and_Zurich_corrected_radius_CGr51.vot is 5 \n",
      "\n",
      "The file ../outputs/SelectedGals_sep_by_cluster/CGr61/matching_fieldsGals_Cassata_and_Zurich_corrected_radius_CGr61.vot is a VOtable, right ? True\n",
      "Size of ../outputs/SelectedGals_sep_by_cluster/CGr61/matching_fieldsGals_Cassata_and_Zurich_corrected_radius_CGr61.vot is 9 \n",
      "\n",
      "The file ../outputs/SelectedGals_sep_by_cluster/CGr79/matching_fieldsGals_Cassata_and_Zurich_corrected_radius_CGr79.vot is a VOtable, right ? True\n",
      "Size of ../outputs/SelectedGals_sep_by_cluster/CGr79/matching_fieldsGals_Cassata_and_Zurich_corrected_radius_CGr79.vot is 8 \n",
      "\n",
      "The file ../outputs/SelectedGals_sep_by_cluster/CGr84/matching_fieldsGals_Cassata_and_Zurich_corrected_radius_CGr84.vot is a VOtable, right ? True\n",
      "[220 235 307 313 324 279]\n",
      "Size of ../outputs/SelectedGals_sep_by_cluster/CGr84/matching_fieldsGals_Cassata_and_Zurich_corrected_radius_CGr84.vot is 6 \n",
      "\n",
      "The file ../outputs/SelectedGals_sep_by_cluster/CGr84-N/matching_fieldsGals_Cassata_and_Zurich_corrected_radius_CGr84-N.vot is a VOtable, right ? True\n",
      "Size of ../outputs/SelectedGals_sep_by_cluster/CGr84-N/matching_fieldsGals_Cassata_and_Zurich_corrected_radius_CGr84-N.vot is 8 \n",
      "\n"
     ]
    }
   ],
   "source": [
    "for name, ls in zip(fullNames, listNumb):\n",
    "    voTag = is_VOtable(name)\n",
    "    if voTag:\n",
    "        table = parse(name)\n",
    "        full  = table.get_first_table()\n",
    "        \n",
    "        if ls == 84:\n",
    "            print(full.array['ID'])\n",
    "        \n",
    "        print(\"Size of\", name, \"is\", full.array.shape[0], \"\\n\")\n",
    "    else:\n",
    "        exit(\"Exiting\")"
   ]
  },
  {
   "cell_type": "markdown",
   "metadata": {},
   "source": [
    "## Looping over files, keeping relevant data, renaming some columns and saving into a .txt file"
   ]
  },
  {
   "cell_type": "code",
   "execution_count": 16,
   "metadata": {},
   "outputs": [
    {
     "name": "stdout",
     "output_type": "stream",
     "text": [
      "The file ../data/catalogues/CGR84-83_FD+North_zcatalog_withLaigle+16_withFAST_withnewPLATEFIT_totalflux_withnewz_jan19_withFOF_withGALFIT_withGALKIN_jan19.vot is a VOtable, right ? True\n",
      "New Gal number : [ 39  54 126 132 146  98]\n",
      "Old Gal number :  ID\n",
      "---\n",
      "220\n",
      "235\n",
      "307\n",
      "313\n",
      "324\n",
      "279\n",
      "Old Gal number :  ID\n",
      "---\n",
      " 39\n",
      " 54\n",
      "126\n",
      "132\n",
      "146\n",
      " 98\n"
     ]
    }
   ],
   "source": [
    "def parsing_and_converting_files(fname, outname, overwrite=False, delimiter=None,\n",
    "                                 form={'ID':'%3s', 'ID_LAIGLE':'%6s', 'z':'%.5f',\n",
    "                                       'flag':'%1d', 'ra':'%3.6f', 'dec':'%3.6f', 'Iab':'%2.6f'},\n",
    "                                 fields=['ID', 'ID_Laigle_16', 'Z_MUSE',\n",
    "                                         'CONFID', 'RA', 'DEC', 'ip_MAG_ISO'],\n",
    "                                 newFieldNames={'ID_Laigle_16':'ID_LAIGLE', 'Z_MUSE':'z', 'CONFID':'flag',\n",
    "                                                'RA':'ra', 'DEC':'dec', 'ip_MAG_ISO':'Iab'}):\n",
    "    \n",
    "    #retrieving data\n",
    "    catalog = Table(parse(fname).get_first_table().array)[fields]\n",
    "    \n",
    "    #Change gals names from the VOtable to that found in the folders\n",
    "    #Only CGr84 has different names in the files and in the folders\n",
    "    if fname.split(\"_\")[-1] == \"CGr84.vot\":\n",
    "        \n",
    "        matchingFile = '../data/catalogues/CGR84-83_FD+North_zcatalog_withLaigle+16_withFAST_withnewPLATEFIT_totalflux_withnewz_jan19_withFOF_withGALFIT_withGALKIN_jan19.vot'\n",
    "        if is_VOtable(matchingFile):\n",
    "            \n",
    "            #construct a mask which keeps galaxies in group CGr84\n",
    "            tmpCOSMOSID   = parse(matchingFile).get_first_table().array['COSMOS_Group_Number']\n",
    "            m             = tmpCOSMOSID==84.0\n",
    "            \n",
    "            #the corresponding MUSE id in the .vot file\n",
    "            CatalogMUSEID = parse(matchingFile).get_first_table().array['ID'][m]\n",
    "            \n",
    "            #the MUSE id found in the folders\n",
    "            FolderMUSEID  = parse(matchingFile).get_first_table().array['ID_in_MUSE_Field'][m]\n",
    "        else:\n",
    "            raise Exception(\"The file\", matchingFile, \"does not seem to be a VOtable.\")\n",
    "\n",
    "        newGalNumber = np.copy(catalog['ID'])\n",
    "        for pos, gal in enumerate(catalog['ID']):\n",
    "            newGalNumber[pos] = FolderMUSEID[CatalogMUSEID==gal][0]\n",
    "        print(\"New Gal number :\", newGalNumber)\n",
    "        print(\"Old Gal number :\", catalog['ID'])\n",
    "        catalog['ID'] = newGalNumber\n",
    "        print(\"Old Gal number :\", catalog['ID'])\n",
    "    \n",
    "    \n",
    "    #renaming\n",
    "    for field in newFieldNames.keys():\n",
    "        catalog.rename_column(field, newFieldNames[field])\n",
    "     \n",
    "    IabMask = np.where(catalog['Iab'].mask)\n",
    "    if np.shape(IabMask)[1] != 0:\n",
    "        catalog[\"Iab\"][IabMask] = 0.0\n",
    "    \n",
    "    #writing\n",
    "    catalog.write(outname, format='ascii.fixed_width', formats=form, \n",
    "                  overwrite=overwrite, delimiter=None)\n",
    "\n",
    "for file, cg in zip(fullNames, CGrNames):\n",
    "    overwrite=True\n",
    "    proc = multiprocessing.Process(name=cg, target=parsing_and_converting_files, \n",
    "                                   args=(file, '../data/hst/' + cg + '/catalog_field_galaxies_'  + cg + '.txt',\n",
    "                                         overwrite, ))\n",
    "    proc.start()"
   ]
  }
 ],
 "metadata": {
  "kernelspec": {
   "display_name": "Python 3",
   "language": "python",
   "name": "python3"
  },
  "language_info": {
   "codemirror_mode": {
    "name": "ipython",
    "version": 3
   },
   "file_extension": ".py",
   "mimetype": "text/x-python",
   "name": "python",
   "nbconvert_exporter": "python",
   "pygments_lexer": "ipython3",
   "version": "3.7.1"
  },
  "toc-autonumbering": true,
  "toc-showtags": false
 },
 "nbformat": 4,
 "nbformat_minor": 2
}
