{
 "cells": [
  {
   "cell_type": "markdown",
   "metadata": {},
   "source": [
    "# Creating .txt input files to make the hst stamps for the plots"
   ]
  },
  {
   "cell_type": "markdown",
   "metadata": {},
   "source": [
    "## Import section"
   ]
  },
  {
   "cell_type": "code",
   "execution_count": 31,
   "metadata": {},
   "outputs": [],
   "source": [
    "from astropy.io.votable import is_votable, parse\n",
    "from stage2 import *\n",
    "\n",
    "from sys import exit\n",
    "\n",
    "import multiprocessing\n",
    "from multiprocessing import Manager"
   ]
  },
  {
   "cell_type": "markdown",
   "metadata": {},
   "source": [
    "## Defining filenames and paths"
   ]
  },
  {
   "cell_type": "code",
   "execution_count": 32,
   "metadata": {},
   "outputs": [],
   "source": [
    "pathdata  = \"../outputs/SelectedGals_sep_by_cluster/\"\n",
    "nameBegin = \"matching_fieldsGals_Cassata_and_Zurich_corrected_radius_\"\n",
    "listNumb  = [114, 23, 26, 28, 30, 32, 34, 51, 61, 79, 84, '84-N']\n",
    "CGrNames  = [i+str(j) for i, j in zip(['CGr']*12, listNumb)]\n",
    "fullNames = [pathdata + i + '/' + nameBegin + i + '.vot' for i in CGrNames]"
   ]
  },
  {
   "cell_type": "code",
   "execution_count": 33,
   "metadata": {},
   "outputs": [
    {
     "name": "stdout",
     "output_type": "stream",
     "text": [
      "The file ../outputs/SelectedGals_sep_by_cluster/CGr114/matching_fieldsGals_Cassata_and_Zurich_corrected_radius_CGr114.vot is a VOtable, right ? True\n",
      "Size of ../outputs/SelectedGals_sep_by_cluster/CGr114/matching_fieldsGals_Cassata_and_Zurich_corrected_radius_CGr114.vot is 20 \n",
      "\n",
      "The file ../outputs/SelectedGals_sep_by_cluster/CGr23/matching_fieldsGals_Cassata_and_Zurich_corrected_radius_CGr23.vot is a VOtable, right ? True\n",
      "Size of ../outputs/SelectedGals_sep_by_cluster/CGr23/matching_fieldsGals_Cassata_and_Zurich_corrected_radius_CGr23.vot is 22 \n",
      "\n",
      "The file ../outputs/SelectedGals_sep_by_cluster/CGr26/matching_fieldsGals_Cassata_and_Zurich_corrected_radius_CGr26.vot is a VOtable, right ? True\n",
      "Size of ../outputs/SelectedGals_sep_by_cluster/CGr26/matching_fieldsGals_Cassata_and_Zurich_corrected_radius_CGr26.vot is 20 \n",
      "\n",
      "The file ../outputs/SelectedGals_sep_by_cluster/CGr28/matching_fieldsGals_Cassata_and_Zurich_corrected_radius_CGr28.vot is a VOtable, right ? True\n",
      "Size of ../outputs/SelectedGals_sep_by_cluster/CGr28/matching_fieldsGals_Cassata_and_Zurich_corrected_radius_CGr28.vot is 17 \n",
      "\n",
      "The file ../outputs/SelectedGals_sep_by_cluster/CGr30/matching_fieldsGals_Cassata_and_Zurich_corrected_radius_CGr30.vot is a VOtable, right ? True\n",
      "Size of ../outputs/SelectedGals_sep_by_cluster/CGr30/matching_fieldsGals_Cassata_and_Zurich_corrected_radius_CGr30.vot is 23 \n",
      "\n",
      "The file ../outputs/SelectedGals_sep_by_cluster/CGr32/matching_fieldsGals_Cassata_and_Zurich_corrected_radius_CGr32.vot is a VOtable, right ? True\n",
      "Size of ../outputs/SelectedGals_sep_by_cluster/CGr32/matching_fieldsGals_Cassata_and_Zurich_corrected_radius_CGr32.vot is 54 \n",
      "\n",
      "The file ../outputs/SelectedGals_sep_by_cluster/CGr34/matching_fieldsGals_Cassata_and_Zurich_corrected_radius_CGr34.vot is a VOtable, right ? True\n",
      "Size of ../outputs/SelectedGals_sep_by_cluster/CGr34/matching_fieldsGals_Cassata_and_Zurich_corrected_radius_CGr34.vot is 22 \n",
      "\n",
      "The file ../outputs/SelectedGals_sep_by_cluster/CGr51/matching_fieldsGals_Cassata_and_Zurich_corrected_radius_CGr51.vot is a VOtable, right ? True\n",
      "Size of ../outputs/SelectedGals_sep_by_cluster/CGr51/matching_fieldsGals_Cassata_and_Zurich_corrected_radius_CGr51.vot is 15 \n",
      "\n",
      "The file ../outputs/SelectedGals_sep_by_cluster/CGr61/matching_fieldsGals_Cassata_and_Zurich_corrected_radius_CGr61.vot is a VOtable, right ? True\n",
      "Size of ../outputs/SelectedGals_sep_by_cluster/CGr61/matching_fieldsGals_Cassata_and_Zurich_corrected_radius_CGr61.vot is 17 \n",
      "\n",
      "The file ../outputs/SelectedGals_sep_by_cluster/CGr79/matching_fieldsGals_Cassata_and_Zurich_corrected_radius_CGr79.vot is a VOtable, right ? True\n",
      "Size of ../outputs/SelectedGals_sep_by_cluster/CGr79/matching_fieldsGals_Cassata_and_Zurich_corrected_radius_CGr79.vot is 16 \n",
      "\n",
      "The file ../outputs/SelectedGals_sep_by_cluster/CGr84/matching_fieldsGals_Cassata_and_Zurich_corrected_radius_CGr84.vot is a VOtable, right ? True\n",
      "Size of ../outputs/SelectedGals_sep_by_cluster/CGr84/matching_fieldsGals_Cassata_and_Zurich_corrected_radius_CGr84.vot is 20 \n",
      "\n",
      "The file ../outputs/SelectedGals_sep_by_cluster/CGr84-N/matching_fieldsGals_Cassata_and_Zurich_corrected_radius_CGr84-N.vot is a VOtable, right ? True\n",
      "Size of ../outputs/SelectedGals_sep_by_cluster/CGr84-N/matching_fieldsGals_Cassata_and_Zurich_corrected_radius_CGr84-N.vot is 15 \n",
      "\n"
     ]
    }
   ],
   "source": [
    "for name in fullNames:\n",
    "    voTag = is_VOtable(name)\n",
    "    if voTag:\n",
    "        table = parse(name)\n",
    "        full  = table.get_first_table()\n",
    "        \n",
    "        print(\"Size of\", name, \"is\", full.array.shape[0], \"\\n\")\n",
    "    else:\n",
    "        exit(\"Exiting\")"
   ]
  },
  {
   "cell_type": "markdown",
   "metadata": {},
   "source": [
    "## Looping over files, keeping relevant data, renaming some columns and saving into a .txt file"
   ]
  },
  {
   "cell_type": "code",
   "execution_count": 43,
   "metadata": {},
   "outputs": [
    {
     "name": "stderr",
     "output_type": "stream",
     "text": [
      "Process CGr114:\n",
      "Traceback (most recent call last):\n",
      "  File \"/home/wilfried/anaconda3/lib/python3.7/multiprocessing/process.py\", line 297, in _bootstrap\n",
      "    self.run()\n",
      "  File \"/home/wilfried/anaconda3/lib/python3.7/multiprocessing/process.py\", line 99, in run\n",
      "    self._target(*self._args, **self._kwargs)\n",
      "  File \"<ipython-input-43-7c7bb8e46a2a>\", line 17, in parsing_and_converting_files\n",
      "    overwrite=overwrite, delimiter=None)\n",
      "  File \"/home/wilfried/anaconda3/lib/python3.7/site-packages/astropy/table/table.py\", line 2592, in write\n",
      "    io_registry.write(self, *args, **kwargs)\n",
      "  File \"/home/wilfried/anaconda3/lib/python3.7/site-packages/astropy/io/registry.py\", line 560, in write\n",
      "    writer(data, *args, **kwargs)\n",
      "  File \"/home/wilfried/anaconda3/lib/python3.7/site-packages/astropy/io/ascii/connect.py\", line 43, in io_write\n",
      "    return write(table, filename, format=format, **kwargs)\n",
      "  File \"/home/wilfried/anaconda3/lib/python3.7/site-packages/astropy/io/ascii/ui.py\", line 870, in write\n",
      "    raise OSError(\"{} already exists\".format(output))\n",
      "OSError: ../data/hst/CGr114/HST_CGr114.txt already exists\n"
     ]
    }
   ],
   "source": [
    "def parsing_and_converting_files(fname, outname, overwrite=False, delimiter=None,\n",
    "                                 form={'ID':'%3s', 'ID_LAIGLE':'%6s', 'z':'%.5f',\n",
    "                                       'flag':'%1d', 'ra':'%3.6f', 'dec':'%3.6f', 'Iab':'%2.6f'},\n",
    "                                 fields=['ID', 'ID_Laigle_16', 'Z_MUSE',\n",
    "                                         'CONFID', 'RA', 'DEC', 'ip_MAG_ISO'],\n",
    "                                 newFieldNames={'ID_Laigle_16':'ID_LAIGLE', 'Z_MUSE':'z', 'CONFID':'flag',\n",
    "                                                'RA':'ra', 'DEC':'dec', 'ip_MAG_ISO':'Iab'}):\n",
    "    \n",
    "    catalog = Table(parse(fname).get_first_table().array)[fields]\n",
    "    \n",
    "    #renaming\n",
    "    for field in newFieldNames.keys():\n",
    "        catalog.rename_column(field, newFieldNames[field])\n",
    "        \n",
    "    #writing\n",
    "    catalog.write(outname, format='ascii.fixed_width', formats=form, \n",
    "                  overwrite=overwrite, delimiter=None)\n",
    "\n",
    "for file, cg in zip(fullNames, CGrNames):\n",
    "    proc = multiprocessing.Process(name=cg, target=parsing_and_converting_files, \n",
    "                                   args=(file, '../data/hst/' + cg + '/' + 'HST_' + cg + '.txt'))\n",
    "    proc.start()"
   ]
  }
 ],
 "metadata": {
  "kernelspec": {
   "display_name": "Python 3",
   "language": "python",
   "name": "python3"
  },
  "language_info": {
   "codemirror_mode": {
    "name": "ipython",
    "version": 3
   },
   "file_extension": ".py",
   "mimetype": "text/x-python",
   "name": "python",
   "nbconvert_exporter": "python",
   "pygments_lexer": "ipython3",
   "version": "3.7.1"
  },
  "toc-autonumbering": true,
  "toc-showtags": false
 },
 "nbformat": 4,
 "nbformat_minor": 2
}
