{
 "cells": [
  {
   "cell_type": "code",
   "execution_count": 46,
   "metadata": {},
   "outputs": [
    {
     "name": "stdout",
     "output_type": "stream",
     "text": [
      "The file outputs/matching_morpho_acc_0.001_deg.vot is a VOtable, right ? True\n",
      "Size of matching_morpho_acc_0.001_deg.vot is 372 \n",
      "\n",
      "The file outputs/matching_morpho_acc_0.01_deg.vot is a VOtable, right ? True\n",
      "Size of matching_morpho_acc_0.01_deg.vot is 481 \n",
      "\n",
      "The file outputs/matching_morpho_acc_1_arcsec.vot is a VOtable, right ? True\n",
      "Size of matching_morpho_acc_1_arcsec.vot is 305 \n",
      "\n"
     ]
    }
   ],
   "source": [
    "#Opening the matching catalogs from TopCat for later comparison\n",
    "from astropy.io.votable import is_votable, parse\n",
    "\n",
    "def is_VOtable(fullname):\n",
    "    tag = is_votable(fullname)\n",
    "    print(\"The file\", fullname, \"is a VOtable, right ?\", tag)\n",
    "    return tag\n",
    "\n",
    "pathdata = \"outputs/\"\n",
    "data     = [\"matching_morpho_acc_0.001_deg.vot\", \"matching_morpho_acc_0.01_deg.vot\", \n",
    "            \"matching_morpho_acc_1_arcsec.vot\"]\n",
    "\n",
    "#Checking that file format is correct\n",
    "for name in data:\n",
    "    voTag = is_VOtable(pathdata+name)\n",
    "    if voTag:        \n",
    "        fullFileName = pathdata + name\n",
    "        #Retrieving the data\n",
    "        table = parse(fullFileName)\n",
    "        full  = table.get_first_table()\n",
    "        \n",
    "        print(\"Size of\", name, \"is\", full.array.shape[0], \"\\n\")\n",
    "    else:\n",
    "        exit(\"Exiting\")"
   ]
  },
  {
   "cell_type": "code",
   "execution_count": 26,
   "metadata": {},
   "outputs": [],
   "source": [
    "#Matching with astropy\n",
    "from astropy.coordinates import SkyCoord\n",
    "from astropy import units as u\n",
    "import numpy as np"
   ]
  },
  {
   "cell_type": "code",
   "execution_count": 21,
   "metadata": {},
   "outputs": [
    {
     "name": "stdout",
     "output_type": "stream",
     "text": [
      "The file outputs/master_field_galaxiesV2.vot is a VOtable, right ? True\n",
      "The file morphology/cosmos_morph_cassata_1.1.vot is a VOtable, right ? True\n",
      "The file morphology/cosmos_morph_tasca_1.1.vot is a VOtable, right ? True\n"
     ]
    }
   ],
   "source": [
    "field_gals  = pathdata+\"master_field_galaxiesV2.vot\"\n",
    "morpho_gals = [\"morphology/cosmos_morph_cassata_1.1.vot\", \"morphology/cosmos_morph_tasca_1.1.vot\"]\n",
    "\n",
    "#Checking file format\n",
    "is_VOtable(field_gals)\n",
    "for name in morpho_gals:\n",
    "    is_VOtable(name)"
   ]
  },
  {
   "cell_type": "code",
   "execution_count": 24,
   "metadata": {},
   "outputs": [],
   "source": [
    "#Retrieving data\n",
    "field   = parse(field_gals).get_first_table()\n",
    "morph_c = parse(morpho_gals[0]).get_first_table()\n",
    "morph_t = parse(morpho_gals[1]).get_first_table()\n",
    "\n",
    "field_RA, field_Dec     = np.array(field.array[['RA', 'DEC']].tolist()).T\n",
    "morph_c_RA, morph_c_Dec = np.array(morph_c.array[['RA', 'DEC']].tolist()).T\n",
    "morph_t_RA, morph_t_Dec = np.array(morph_t.array[['RA', 'DEC']].tolist()).T"
   ]
  },
  {
   "cell_type": "code",
   "execution_count": 47,
   "metadata": {},
   "outputs": [],
   "source": [
    "field_catalog   = SkyCoord(ra=field_RA*u.degree, dec=field_Dec*u.degree)\n",
    "morph_c_catalog = SkyCoord(ra=morph_c_RA*u.degree, dec=morph_c_Dec*u.degree)\n",
    "morph_t_tatalog = SkyCoord(ra=morph_t_RA*u.degree, dec=morph_t_Dec*u.degree)\n",
    "\n",
    "indices_c, dist2D_c, dist3D_c = field_catalog.match_to_catalog_sky(morph_c_catalog)"
   ]
  },
  {
   "cell_type": "code",
   "execution_count": 68,
   "metadata": {},
   "outputs": [
    {
     "name": "stdout",
     "output_type": "stream",
     "text": [
      "The former and later arrays are identical, right ? True\n"
     ]
    },
    {
     "data": {
      "text/plain": [
       "masked_array(data=[ True,  True,  True,  True,  True,  True,  True,  True,\n",
       "                    True,  True,  True,  True,  True,  True,  True,  True,\n",
       "                    True,  True,  True,  True,  True,  True,  True,  True,\n",
       "                    True,  True,  True,  True,  True,  True,  True,  True,\n",
       "                    True,  True,  True,  True,  True,  True,  True,  True,\n",
       "                    True,  True,  True,  True,  True,  True,  True,  True,\n",
       "                    True,  True,  True,  True,  True,  True,  True,  True,\n",
       "                    True,  True,  True,  True,  True,  True,  True,  True,\n",
       "                    True,  True,  True,  True,  True,  True,  True,  True,\n",
       "                    True,  True,  True,  True,  True,  True,  True,  True,\n",
       "                    True,  True,  True,  True,  True,  True,  True,  True,\n",
       "                    True,  True,  True,  True,  True,  True,  True,  True,\n",
       "                    True,  True,  True,  True,  True,  True,  True,  True,\n",
       "                    True,  True,  True,  True,  True,  True,  True,  True,\n",
       "                    True,  True,  True,  True,  True,  True,  True,  True,\n",
       "                    True,  True,  True,  True,  True,  True,  True,  True,\n",
       "                    True,  True,  True,  True,  True,  True,  True,  True,\n",
       "                    True,  True,  True,  True,  True,  True,  True,  True,\n",
       "                    True,  True,  True,  True,  True,  True,  True,  True,\n",
       "                    True,  True,  True,  True,  True,  True,  True,  True,\n",
       "                    True,  True,  True,  True,  True,  True,  True,  True,\n",
       "                    True,  True,  True,  True,  True,  True,  True,  True,\n",
       "                    True,  True,  True,  True,  True,  True,  True,  True,\n",
       "                    True,  True,  True,  True,  True,  True,  True,  True,\n",
       "                    True,  True,  True,  True,  True,  True,  True,  True,\n",
       "                    True,  True,  True,  True,  True,  True,  True,  True,\n",
       "                    True,  True,  True,  True,  True,  True,  True,  True,\n",
       "                    True,  True,  True,  True,  True,  True,  True,  True,\n",
       "                    True,  True,  True,  True,  True,  True,  True,  True,\n",
       "                    True,  True,  True,  True,  True,  True,  True,  True,\n",
       "                    True,  True,  True,  True,  True,  True,  True,  True,\n",
       "                    True,  True,  True,  True,  True,  True,  True,  True,\n",
       "                    True,  True,  True,  True,  True,  True,  True,  True,\n",
       "                    True,  True,  True,  True,  True,  True,  True,  True,\n",
       "                    True,  True,  True,  True,  True,  True,  True,  True,\n",
       "                    True,  True,  True,  True,  True,  True,  True,  True,\n",
       "                    True,  True,  True,  True,  True,  True,  True,  True,\n",
       "                    True,  True,  True,  True,  True,  True,  True,  True,\n",
       "                    True,  True,  True,  True,  True,  True,  True,  True,\n",
       "                    True,  True,  True,  True,  True,  True,  True,  True,\n",
       "                    True,  True,  True,  True,  True,  True,  True,  True,\n",
       "                    True,  True,  True,  True,  True,  True,  True,  True,\n",
       "                    True,  True,  True,  True,  True,  True,  True,  True,\n",
       "                    True,  True,  True,  True,  True,  True,  True,  True,\n",
       "                    True,  True,  True,  True,  True,  True,  True,  True,\n",
       "                    True,  True,  True,  True,  True,  True,  True,  True,\n",
       "                    True,  True,  True,  True,  True,  True,  True,  True,\n",
       "                    True,  True,  True,  True,  True,  True,  True,  True,\n",
       "                    True,  True,  True,  True,  True,  True,  True,  True,\n",
       "                    True,  True,  True,  True,  True,  True,  True,  True,\n",
       "                    True,  True,  True,  True,  True,  True,  True,  True,\n",
       "                    True,  True,  True,  True,  True,  True,  True,  True,\n",
       "                    True,  True,  True,  True,  True,  True,  True,  True,\n",
       "                    True,  True,  True,  True,  True,  True,  True,  True,\n",
       "                    True,  True,  True,  True,  True,  True,  True,  True,\n",
       "                    True,  True,  True,  True,  True,  True,  True,  True,\n",
       "                    True,  True,  True,  True,  True,  True,  True,  True,\n",
       "                    True,  True,  True,  True,  True,  True,  True,  True,\n",
       "                    True,  True,  True,  True,  True,  True,  True,  True,\n",
       "                    True,  True,  True,  True,  True,  True,  True,  True,\n",
       "                    True,  True,  True,  True,  True,  True,  True,  True,\n",
       "                    True,  True,  True,  True,  True,  True,  True,  True,\n",
       "                    True,  True,  True,  True,  True,  True,  True,  True,\n",
       "                    True,  True,  True,  True,  True,  True,  True,  True,\n",
       "                    True,  True,  True,  True,  True,  True,  True,  True,\n",
       "                    True,  True,  True,  True,  True,  True,  True,  True,\n",
       "                    True,  True,  True,  True,  True,  True,  True,  True,\n",
       "                    True,  True,  True,  True,  True,  True,  True,  True,\n",
       "                    True],\n",
       "             mask=False,\n",
       "       fill_value=True)"
      ]
     },
     "execution_count": 68,
     "metadata": {},
     "output_type": "execute_result"
    }
   ],
   "source": [
    "#Checking that the catalog gives consistent results with the former array when applying the mask\n",
    "print(\"The former and later arrays are identical, right ?\", not np.any(np.logical_not(morph_c.array[indices_c]['RA'] == morph_c_catalog[indices_c].ra.degree)))\n",
    "morph_c.array[indices_c]['RA'] == morph_c_catalog[indices_c].ra.degree"
   ]
  },
  {
   "cell_type": "code",
   "execution_count": 73,
   "metadata": {},
   "outputs": [
    {
     "data": {
      "text/plain": [
       "True"
      ]
     },
     "execution_count": 73,
     "metadata": {},
     "output_type": "execute_result"
    }
   ],
   "source": [
    "#Checking that the index array as the same dimension as the field galaxies array\n",
    "indices_c.shape[0] == field.array.shape[0]"
   ]
  },
  {
   "cell_type": "code",
   "execution_count": null,
   "metadata": {},
   "outputs": [],
   "source": []
  }
 ],
 "metadata": {
  "kernelspec": {
   "display_name": "Python 3",
   "language": "python",
   "name": "python3"
  },
  "language_info": {
   "codemirror_mode": {
    "name": "ipython",
    "version": 3
   },
   "file_extension": ".py",
   "mimetype": "text/x-python",
   "name": "python",
   "nbconvert_exporter": "python",
   "pygments_lexer": "ipython3",
   "version": "3.7.1"
  }
 },
 "nbformat": 4,
 "nbformat_minor": 2
}
